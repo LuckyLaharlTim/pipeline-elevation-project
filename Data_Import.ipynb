{
 "cells": [
  {
   "cell_type": "markdown",
   "metadata": {},
   "source": [
    "# Getting Data from Google Earth Engine"
   ]
  },
  {
   "cell_type": "code",
   "execution_count": 1,
   "metadata": {},
   "outputs": [],
   "source": [
    "import numpy as np # linear algebra\n",
    "import pandas as pd # data processing, CSV file I/O (e.g. pd.read_csv)\n",
    "import geopandas as gpd\n",
    "import matplotlib.pyplot as plt\n",
    "import ee\n",
    "import folium\n",
    "import geemap.core as geemap\n",
    "import geehydro\n",
    "# from sklearn.model_selection import train_test_split\n",
    "# from sklearn.preprocessing import MinMaxScaler\n",
    "# from sklearn.svm import LinearSVC\n",
    "# from sklearn import svm, metrics, ensemble\n",
    "# from keras.models import Sequential, Model\n",
    "# from tensorflow.keras.layers import Conv2D, MaxPooling2D, Dense, Activation, Dropout, Flatten, MaxPool2D\n",
    "# from tensorflow.keras.layers import BatchNormalization\n",
    "# from tensorflow.keras.utils import plot_model\n",
    "\n",
    "# from tensorflow.keras.optimizers import Adam\n",
    "# from keras.callbacks import LearningRateScheduler\n",
    "# from keras.regularizers import l2, l1\n",
    "import math\n",
    "import requests\n",
    "import os\n",
    "import skimage\n",
    "\n"
   ]
  },
  {
   "cell_type": "markdown",
   "metadata": {},
   "source": [
    "### Authenticate and Initialize Project"
   ]
  },
  {
   "cell_type": "code",
   "execution_count": 2,
   "metadata": {},
   "outputs": [
    {
     "data": {
      "text/html": [
       "\n",
       "            <style>\n",
       "                .geemap-dark {\n",
       "                    --jp-widgets-color: white;\n",
       "                    --jp-widgets-label-color: white;\n",
       "                    --jp-ui-font-color1: white;\n",
       "                    --jp-layout-color2: #454545;\n",
       "                    background-color: #383838;\n",
       "                }\n",
       "\n",
       "                .geemap-dark .jupyter-button {\n",
       "                    --jp-layout-color3: #383838;\n",
       "                }\n",
       "\n",
       "                .geemap-colab {\n",
       "                    background-color: var(--colab-primary-surface-color, white);\n",
       "                }\n",
       "\n",
       "                .geemap-colab .jupyter-button {\n",
       "                    --jp-layout-color3: var(--colab-primary-surface-color, white);\n",
       "                }\n",
       "            </style>\n",
       "            "
      ],
      "text/plain": [
       "<IPython.core.display.HTML object>"
      ]
     },
     "metadata": {},
     "output_type": "display_data"
    }
   ],
   "source": [
    "try:\n",
    "## should be a one-time run\n",
    "    ee.Authenticate()\n",
    "    ee.Initialize(project=\"pipeline-elevation-project\")\n",
    "except:\n",
    "    ee.Initialize(project=\"pipeline-elevation-project\")"
   ]
  },
  {
   "cell_type": "markdown",
   "metadata": {},
   "source": [
    "### Call Landsat Data"
   ]
  },
  {
   "cell_type": "code",
   "execution_count": 8,
   "metadata": {},
   "outputs": [
    {
     "data": {
      "text/html": [
       "\n",
       "            <style>\n",
       "                .geemap-dark {\n",
       "                    --jp-widgets-color: white;\n",
       "                    --jp-widgets-label-color: white;\n",
       "                    --jp-ui-font-color1: white;\n",
       "                    --jp-layout-color2: #454545;\n",
       "                    background-color: #383838;\n",
       "                }\n",
       "\n",
       "                .geemap-dark .jupyter-button {\n",
       "                    --jp-layout-color3: #383838;\n",
       "                }\n",
       "\n",
       "                .geemap-colab {\n",
       "                    background-color: var(--colab-primary-surface-color, white);\n",
       "                }\n",
       "\n",
       "                .geemap-colab .jupyter-button {\n",
       "                    --jp-layout-color3: var(--colab-primary-surface-color, white);\n",
       "                }\n",
       "            </style>\n",
       "            "
      ],
      "text/plain": [
       "<IPython.core.display.HTML object>"
      ]
     },
     "metadata": {},
     "output_type": "display_data"
    }
   ],
   "source": [
    "# filter boundary:\n",
    "tx = ee.Geometry.Rectangle(-106.64719063660635,25.840437651866516,-93.5175532104321,36.50050935248352)\n",
    "\n",
    "i_date = '2022-05-01'\n",
    "f_date = '2022-06-30'"
   ]
  },
  {
   "cell_type": "code",
   "execution_count": 4,
   "metadata": {},
   "outputs": [
    {
     "data": {
      "text/html": [
       "\n",
       "            <style>\n",
       "                .geemap-dark {\n",
       "                    --jp-widgets-color: white;\n",
       "                    --jp-widgets-label-color: white;\n",
       "                    --jp-ui-font-color1: white;\n",
       "                    --jp-layout-color2: #454545;\n",
       "                    background-color: #383838;\n",
       "                }\n",
       "\n",
       "                .geemap-dark .jupyter-button {\n",
       "                    --jp-layout-color3: #383838;\n",
       "                }\n",
       "\n",
       "                .geemap-colab {\n",
       "                    background-color: var(--colab-primary-surface-color, white);\n",
       "                }\n",
       "\n",
       "                .geemap-colab .jupyter-button {\n",
       "                    --jp-layout-color3: var(--colab-primary-surface-color, white);\n",
       "                }\n",
       "            </style>\n",
       "            "
      ],
      "text/plain": [
       "<IPython.core.display.HTML object>"
      ]
     },
     "metadata": {},
     "output_type": "display_data"
    }
   ],
   "source": [
    "lstColl = ee.ImageCollection(\"LANDSAT/LC09/C02/T1\")\n",
    "\n",
    "lst = lstColl.select('B1','B2','B3','B4').filterDate(i_date,f_date).filterBounds(tx)"
   ]
  },
  {
   "cell_type": "code",
   "execution_count": 23,
   "metadata": {},
   "outputs": [
    {
     "data": {
      "text/html": [
       "\n",
       "            <style>\n",
       "                .geemap-dark {\n",
       "                    --jp-widgets-color: white;\n",
       "                    --jp-widgets-label-color: white;\n",
       "                    --jp-ui-font-color1: white;\n",
       "                    --jp-layout-color2: #454545;\n",
       "                    background-color: #383838;\n",
       "                }\n",
       "\n",
       "                .geemap-dark .jupyter-button {\n",
       "                    --jp-layout-color3: #383838;\n",
       "                }\n",
       "\n",
       "                .geemap-colab {\n",
       "                    background-color: var(--colab-primary-surface-color, white);\n",
       "                }\n",
       "\n",
       "                .geemap-colab .jupyter-button {\n",
       "                    --jp-layout-color3: var(--colab-primary-surface-color, white);\n",
       "                }\n",
       "            </style>\n",
       "            "
      ],
      "text/plain": [
       "<IPython.core.display.HTML object>"
      ]
     },
     "metadata": {},
     "output_type": "display_data"
    },
    {
     "data": {
      "text/html": [
       "<div><style>:root {\n",
       "  --font-color-primary: var(--jp-content-font-color0, rgba(0, 0, 0, 1));\n",
       "  --font-color-secondary: var(--jp-content-font-color2, rgba(0, 0, 0, 0.6));\n",
       "  --font-color-accent: rgba(123, 31, 162, 1);\n",
       "  --border-color: var(--jp-border-color2, #e0e0e0);\n",
       "  --background-color: var(--jp-layout-color0, white);\n",
       "  --background-color-row-even: var(--jp-layout-color1, white);\n",
       "  --background-color-row-odd: var(--jp-layout-color2, #eeeeee);\n",
       "}\n",
       "\n",
       "html[theme=\"dark\"],\n",
       "body[data-theme=\"dark\"],\n",
       "body.vscode-dark {\n",
       "  --font-color-primary: rgba(255, 255, 255, 1);\n",
       "  --font-color-secondary: rgba(255, 255, 255, 0.6);\n",
       "  --font-color-accent: rgb(173, 132, 190);\n",
       "  --border-color: #2e2e2e;\n",
       "  --background-color: #111111;\n",
       "  --background-color-row-even: #111111;\n",
       "  --background-color-row-odd: #313131;\n",
       "}\n",
       "\n",
       ".ee {\n",
       "  padding: 1em;\n",
       "  line-height: 1.5em;\n",
       "  min-width: 300px;\n",
       "  max-width: 1200px;\n",
       "  overflow-y: scroll;\n",
       "  max-height: 600px;\n",
       "  border: 1px solid var(--border-color);\n",
       "  font-family: monospace;\n",
       "}\n",
       "\n",
       ".ee li {\n",
       "  list-style-type: none;\n",
       "}\n",
       "\n",
       ".ee ul {\n",
       "  padding-left: 1.5em !important;\n",
       "  margin: 0;\n",
       "}\n",
       "\n",
       ".ee > ul {\n",
       "  padding-left: 0 !important;\n",
       "}\n",
       "\n",
       ".ee-open,\n",
       ".ee-shut {\n",
       "  color: var(--font-color-secondary);\n",
       "  cursor: pointer;\n",
       "  margin: 0;\n",
       "}\n",
       "\n",
       ".ee-open:hover,\n",
       ".ee-shut:hover {\n",
       "  color: var(--font-color-primary);\n",
       "}\n",
       "\n",
       ".ee-k {\n",
       "  color: var(--font-color-accent);\n",
       "  margin-right: 6px;\n",
       "}\n",
       "\n",
       ".ee-v {\n",
       "  color: var(--font-color-primary);\n",
       "}\n",
       "\n",
       ".ee-toggle {\n",
       "  display: none;\n",
       "}\n",
       "\n",
       ".ee-shut + ul {\n",
       "  display: none;\n",
       "}\n",
       "\n",
       ".ee-open + ul {\n",
       "  display: block;\n",
       "}\n",
       "\n",
       ".ee-shut::before {\n",
       "  display: inline-block;\n",
       "  content: \"▼\";\n",
       "  margin-right: 6px;\n",
       "  transform: rotate(-90deg);\n",
       "  transition: transform 0.2s;\n",
       "}\n",
       "\n",
       ".ee-open::before {\n",
       "  transform: rotate(0deg);\n",
       "  display: inline-block;\n",
       "  content: \"▼\";\n",
       "  margin-right: 6px;\n",
       "  transition: transform 0.2s;\n",
       "}\n",
       "</style><div class='ee'><ul><li><label class='ee-shut'>Image LANDSAT/LC09/C02/T1/LC09_025039_20220530 (4 bands)<input type='checkbox' class='ee-toggle'></label><ul><li><span class='ee-k'>type:</span><span class='ee-v'>Image</span></li><li><span class='ee-k'>id:</span><span class='ee-v'>LANDSAT/LC09/C02/T1/LC09_025039_20220530</span></li><li><span class='ee-k'>version:</span><span class='ee-v'>1681597485112778</span></li><li><label class='ee-shut'>bands: List (4 elements)<input type='checkbox' class='ee-toggle'></label><ul><li><label class='ee-shut'>0: \"B1\", unsigned int16, EPSG:32615, 7741x7871 px<input type='checkbox' class='ee-toggle'></label><ul><li><span class='ee-k'>id:</span><span class='ee-v'>B1</span></li><li><span class='ee-k'>crs:</span><span class='ee-v'>EPSG:32615</span></li><li><label class='ee-shut'>crs_transform: [30, 0, 212985, 0, -30, 3471615]<input type='checkbox' class='ee-toggle'></label><ul><li><span class='ee-k'>0:</span><span class='ee-v'>30</span></li><li><span class='ee-k'>1:</span><span class='ee-v'>0</span></li><li><span class='ee-k'>2:</span><span class='ee-v'>212985</span></li><li><span class='ee-k'>3:</span><span class='ee-v'>0</span></li><li><span class='ee-k'>4:</span><span class='ee-v'>-30</span></li><li><span class='ee-k'>5:</span><span class='ee-v'>3471615</span></li></ul></li><li><label class='ee-shut'>data_type: unsigned int16<input type='checkbox' class='ee-toggle'></label><ul><li><span class='ee-k'>type:</span><span class='ee-v'>PixelType</span></li><li><span class='ee-k'>max:</span><span class='ee-v'>65535</span></li><li><span class='ee-k'>min:</span><span class='ee-v'>0</span></li><li><span class='ee-k'>precision:</span><span class='ee-v'>int</span></li></ul></li><li><label class='ee-shut'>dimensions: [7741, 7871]<input type='checkbox' class='ee-toggle'></label><ul><li><span class='ee-k'>0:</span><span class='ee-v'>7741</span></li><li><span class='ee-k'>1:</span><span class='ee-v'>7871</span></li></ul></li></ul></li><li><label class='ee-shut'>1: \"B2\", unsigned int16, EPSG:32615, 7741x7871 px<input type='checkbox' class='ee-toggle'></label><ul><li><span class='ee-k'>id:</span><span class='ee-v'>B2</span></li><li><span class='ee-k'>crs:</span><span class='ee-v'>EPSG:32615</span></li><li><label class='ee-shut'>crs_transform: [30, 0, 212985, 0, -30, 3471615]<input type='checkbox' class='ee-toggle'></label><ul><li><span class='ee-k'>0:</span><span class='ee-v'>30</span></li><li><span class='ee-k'>1:</span><span class='ee-v'>0</span></li><li><span class='ee-k'>2:</span><span class='ee-v'>212985</span></li><li><span class='ee-k'>3:</span><span class='ee-v'>0</span></li><li><span class='ee-k'>4:</span><span class='ee-v'>-30</span></li><li><span class='ee-k'>5:</span><span class='ee-v'>3471615</span></li></ul></li><li><label class='ee-shut'>data_type: unsigned int16<input type='checkbox' class='ee-toggle'></label><ul><li><span class='ee-k'>type:</span><span class='ee-v'>PixelType</span></li><li><span class='ee-k'>max:</span><span class='ee-v'>65535</span></li><li><span class='ee-k'>min:</span><span class='ee-v'>0</span></li><li><span class='ee-k'>precision:</span><span class='ee-v'>int</span></li></ul></li><li><label class='ee-shut'>dimensions: [7741, 7871]<input type='checkbox' class='ee-toggle'></label><ul><li><span class='ee-k'>0:</span><span class='ee-v'>7741</span></li><li><span class='ee-k'>1:</span><span class='ee-v'>7871</span></li></ul></li></ul></li><li><label class='ee-shut'>2: \"B3\", unsigned int16, EPSG:32615, 7741x7871 px<input type='checkbox' class='ee-toggle'></label><ul><li><span class='ee-k'>id:</span><span class='ee-v'>B3</span></li><li><span class='ee-k'>crs:</span><span class='ee-v'>EPSG:32615</span></li><li><label class='ee-shut'>crs_transform: [30, 0, 212985, 0, -30, 3471615]<input type='checkbox' class='ee-toggle'></label><ul><li><span class='ee-k'>0:</span><span class='ee-v'>30</span></li><li><span class='ee-k'>1:</span><span class='ee-v'>0</span></li><li><span class='ee-k'>2:</span><span class='ee-v'>212985</span></li><li><span class='ee-k'>3:</span><span class='ee-v'>0</span></li><li><span class='ee-k'>4:</span><span class='ee-v'>-30</span></li><li><span class='ee-k'>5:</span><span class='ee-v'>3471615</span></li></ul></li><li><label class='ee-shut'>data_type: unsigned int16<input type='checkbox' class='ee-toggle'></label><ul><li><span class='ee-k'>type:</span><span class='ee-v'>PixelType</span></li><li><span class='ee-k'>max:</span><span class='ee-v'>65535</span></li><li><span class='ee-k'>min:</span><span class='ee-v'>0</span></li><li><span class='ee-k'>precision:</span><span class='ee-v'>int</span></li></ul></li><li><label class='ee-shut'>dimensions: [7741, 7871]<input type='checkbox' class='ee-toggle'></label><ul><li><span class='ee-k'>0:</span><span class='ee-v'>7741</span></li><li><span class='ee-k'>1:</span><span class='ee-v'>7871</span></li></ul></li></ul></li><li><label class='ee-shut'>3: \"B4\", unsigned int16, EPSG:32615, 7741x7871 px<input type='checkbox' class='ee-toggle'></label><ul><li><span class='ee-k'>id:</span><span class='ee-v'>B4</span></li><li><span class='ee-k'>crs:</span><span class='ee-v'>EPSG:32615</span></li><li><label class='ee-shut'>crs_transform: [30, 0, 212985, 0, -30, 3471615]<input type='checkbox' class='ee-toggle'></label><ul><li><span class='ee-k'>0:</span><span class='ee-v'>30</span></li><li><span class='ee-k'>1:</span><span class='ee-v'>0</span></li><li><span class='ee-k'>2:</span><span class='ee-v'>212985</span></li><li><span class='ee-k'>3:</span><span class='ee-v'>0</span></li><li><span class='ee-k'>4:</span><span class='ee-v'>-30</span></li><li><span class='ee-k'>5:</span><span class='ee-v'>3471615</span></li></ul></li><li><label class='ee-shut'>data_type: unsigned int16<input type='checkbox' class='ee-toggle'></label><ul><li><span class='ee-k'>type:</span><span class='ee-v'>PixelType</span></li><li><span class='ee-k'>max:</span><span class='ee-v'>65535</span></li><li><span class='ee-k'>min:</span><span class='ee-v'>0</span></li><li><span class='ee-k'>precision:</span><span class='ee-v'>int</span></li></ul></li><li><label class='ee-shut'>dimensions: [7741, 7871]<input type='checkbox' class='ee-toggle'></label><ul><li><span class='ee-k'>0:</span><span class='ee-v'>7741</span></li><li><span class='ee-k'>1:</span><span class='ee-v'>7871</span></li></ul></li></ul></li></ul></li><li><label class='ee-shut'>properties: Object (108 properties)<input type='checkbox' class='ee-toggle'></label><ul><li><span class='ee-k'>CLOUD_COVER:</span><span class='ee-v'>40.37</span></li><li><span class='ee-k'>CLOUD_COVER_LAND:</span><span class='ee-v'>39.52</span></li><li><span class='ee-k'>COLLECTION_CATEGORY:</span><span class='ee-v'>T1</span></li><li><span class='ee-k'>COLLECTION_NUMBER:</span><span class='ee-v'>2</span></li><li><span class='ee-k'>DATA_SOURCE_ELEVATION:</span><span class='ee-v'>GLS2000</span></li><li><span class='ee-k'>DATE_ACQUIRED:</span><span class='ee-v'>2022-05-30</span></li><li><span class='ee-k'>DATE_PRODUCT_GENERATED:</span><span class='ee-v'>1681509507000</span></li><li><span class='ee-k'>DATUM:</span><span class='ee-v'>WGS84</span></li><li><span class='ee-k'>EARTH_SUN_DISTANCE:</span><span class='ee-v'>1.0137607</span></li><li><span class='ee-k'>ELLIPSOID:</span><span class='ee-v'>WGS84</span></li><li><span class='ee-k'>GEOMETRIC_RMSE_MODEL:</span><span class='ee-v'>7.884</span></li><li><span class='ee-k'>GEOMETRIC_RMSE_MODEL_X:</span><span class='ee-v'>5.271</span></li><li><span class='ee-k'>GEOMETRIC_RMSE_MODEL_Y:</span><span class='ee-v'>5.864</span></li><li><span class='ee-k'>GEOMETRIC_RMSE_VERIFY:</span><span class='ee-v'>7.293</span></li><li><span class='ee-k'>GRID_CELL_SIZE_PANCHROMATIC:</span><span class='ee-v'>15</span></li><li><span class='ee-k'>GRID_CELL_SIZE_REFLECTIVE:</span><span class='ee-v'>30</span></li><li><span class='ee-k'>GRID_CELL_SIZE_THERMAL:</span><span class='ee-v'>30</span></li><li><span class='ee-k'>GROUND_CONTROL_POINTS_MODEL:</span><span class='ee-v'>189</span></li><li><span class='ee-k'>GROUND_CONTROL_POINTS_VERIFY:</span><span class='ee-v'>42</span></li><li><span class='ee-k'>GROUND_CONTROL_POINTS_VERSION:</span><span class='ee-v'>5</span></li><li><span class='ee-k'>IMAGE_QUALITY_OLI:</span><span class='ee-v'>9</span></li><li><span class='ee-k'>IMAGE_QUALITY_TIRS:</span><span class='ee-v'>9</span></li><li><span class='ee-k'>K1_CONSTANT_BAND_10:</span><span class='ee-v'>799.0284</span></li><li><span class='ee-k'>K1_CONSTANT_BAND_11:</span><span class='ee-v'>475.6581</span></li><li><span class='ee-k'>K2_CONSTANT_BAND_10:</span><span class='ee-v'>1329.2405</span></li><li><span class='ee-k'>K2_CONSTANT_BAND_11:</span><span class='ee-v'>1198.3494</span></li><li><span class='ee-k'>LANDSAT_PRODUCT_ID:</span><span class='ee-v'>LC09_L1TP_025039_20220530_20230414_02_T1</span></li><li><span class='ee-k'>LANDSAT_SCENE_ID:</span><span class='ee-v'>LC90250392022150LGN01</span></li><li><span class='ee-k'>MAP_PROJECTION:</span><span class='ee-v'>UTM</span></li><li><span class='ee-k'>NADIR_OFFNADIR:</span><span class='ee-v'>NADIR</span></li><li><span class='ee-k'>ORIENTATION:</span><span class='ee-v'>NORTH_UP</span></li><li><span class='ee-k'>PANCHROMATIC_LINES:</span><span class='ee-v'>15741</span></li><li><span class='ee-k'>PANCHROMATIC_SAMPLES:</span><span class='ee-v'>15481</span></li><li><span class='ee-k'>PROCESSING_LEVEL:</span><span class='ee-v'>L1TP</span></li><li><span class='ee-k'>PROCESSING_SOFTWARE_VERSION:</span><span class='ee-v'>LPGS_16.2.0</span></li><li><span class='ee-k'>RADIANCE_ADD_BAND_1:</span><span class='ee-v'>-60.88697</span></li><li><span class='ee-k'>RADIANCE_ADD_BAND_10:</span><span class='ee-v'>0.1</span></li><li><span class='ee-k'>RADIANCE_ADD_BAND_11:</span><span class='ee-v'>0.1</span></li><li><span class='ee-k'>RADIANCE_ADD_BAND_2:</span><span class='ee-v'>-62.53584</span></li><li><span class='ee-k'>RADIANCE_ADD_BAND_3:</span><span class='ee-v'>-57.69277</span></li><li><span class='ee-k'>RADIANCE_ADD_BAND_4:</span><span class='ee-v'>-48.60594</span></li><li><span class='ee-k'>RADIANCE_ADD_BAND_5:</span><span class='ee-v'>-29.79068</span></li><li><span class='ee-k'>RADIANCE_ADD_BAND_6:</span><span class='ee-v'>-7.405</span></li><li><span class='ee-k'>RADIANCE_ADD_BAND_7:</span><span class='ee-v'>-2.49529</span></li><li><span class='ee-k'>RADIANCE_ADD_BAND_8:</span><span class='ee-v'>-54.85422</span></li><li><span class='ee-k'>RADIANCE_ADD_BAND_9:</span><span class='ee-v'>-11.64385</span></li><li><span class='ee-k'>RADIANCE_MULT_BAND_1:</span><span class='ee-v'>0.012177</span></li><li><span class='ee-k'>RADIANCE_MULT_BAND_10:</span><span class='ee-v'>0.00038</span></li><li><span class='ee-k'>RADIANCE_MULT_BAND_11:</span><span class='ee-v'>0.000349</span></li><li><span class='ee-k'>RADIANCE_MULT_BAND_2:</span><span class='ee-v'>0.012507</span></li><li><span class='ee-k'>RADIANCE_MULT_BAND_3:</span><span class='ee-v'>0.011539</span></li><li><span class='ee-k'>RADIANCE_MULT_BAND_4:</span><span class='ee-v'>0.0097212</span></li><li><span class='ee-k'>RADIANCE_MULT_BAND_5:</span><span class='ee-v'>0.0059581</span></li><li><span class='ee-k'>RADIANCE_MULT_BAND_6:</span><span class='ee-v'>0.001481</span></li><li><span class='ee-k'>RADIANCE_MULT_BAND_7:</span><span class='ee-v'>0.00049906</span></li><li><span class='ee-k'>RADIANCE_MULT_BAND_8:</span><span class='ee-v'>0.010971</span></li><li><span class='ee-k'>RADIANCE_MULT_BAND_9:</span><span class='ee-v'>0.0023288</span></li><li><span class='ee-k'>REFLECTANCE_ADD_BAND_1:</span><span class='ee-v'>-0.1</span></li><li><span class='ee-k'>REFLECTANCE_ADD_BAND_2:</span><span class='ee-v'>-0.1</span></li><li><span class='ee-k'>REFLECTANCE_ADD_BAND_3:</span><span class='ee-v'>-0.1</span></li><li><span class='ee-k'>REFLECTANCE_ADD_BAND_4:</span><span class='ee-v'>-0.1</span></li><li><span class='ee-k'>REFLECTANCE_ADD_BAND_5:</span><span class='ee-v'>-0.1</span></li><li><span class='ee-k'>REFLECTANCE_ADD_BAND_6:</span><span class='ee-v'>-0.1</span></li><li><span class='ee-k'>REFLECTANCE_ADD_BAND_7:</span><span class='ee-v'>-0.1</span></li><li><span class='ee-k'>REFLECTANCE_ADD_BAND_8:</span><span class='ee-v'>-0.1</span></li><li><span class='ee-k'>REFLECTANCE_ADD_BAND_9:</span><span class='ee-v'>-0.1</span></li><li><span class='ee-k'>REFLECTANCE_MULT_BAND_1:</span><span class='ee-v'>2e-05</span></li><li><span class='ee-k'>REFLECTANCE_MULT_BAND_2:</span><span class='ee-v'>2e-05</span></li><li><span class='ee-k'>REFLECTANCE_MULT_BAND_3:</span><span class='ee-v'>2e-05</span></li><li><span class='ee-k'>REFLECTANCE_MULT_BAND_4:</span><span class='ee-v'>2e-05</span></li><li><span class='ee-k'>REFLECTANCE_MULT_BAND_5:</span><span class='ee-v'>2e-05</span></li><li><span class='ee-k'>REFLECTANCE_MULT_BAND_6:</span><span class='ee-v'>2e-05</span></li><li><span class='ee-k'>REFLECTANCE_MULT_BAND_7:</span><span class='ee-v'>2e-05</span></li><li><span class='ee-k'>REFLECTANCE_MULT_BAND_8:</span><span class='ee-v'>2e-05</span></li><li><span class='ee-k'>REFLECTANCE_MULT_BAND_9:</span><span class='ee-v'>2e-05</span></li><li><span class='ee-k'>REFLECTIVE_LINES:</span><span class='ee-v'>7871</span></li><li><span class='ee-k'>REFLECTIVE_SAMPLES:</span><span class='ee-v'>7741</span></li><li><span class='ee-k'>REQUEST_ID:</span><span class='ee-v'>1696569_00019</span></li><li><span class='ee-k'>RESAMPLING_OPTION:</span><span class='ee-v'>CUBIC_CONVOLUTION</span></li><li><span class='ee-k'>ROLL_ANGLE:</span><span class='ee-v'>0</span></li><li><span class='ee-k'>SATURATION_BAND_1:</span><span class='ee-v'>N</span></li><li><span class='ee-k'>SATURATION_BAND_2:</span><span class='ee-v'>Y</span></li><li><span class='ee-k'>SATURATION_BAND_3:</span><span class='ee-v'>Y</span></li><li><span class='ee-k'>SATURATION_BAND_4:</span><span class='ee-v'>Y</span></li><li><span class='ee-k'>SATURATION_BAND_5:</span><span class='ee-v'>Y</span></li><li><span class='ee-k'>SATURATION_BAND_6:</span><span class='ee-v'>Y</span></li><li><span class='ee-k'>SATURATION_BAND_7:</span><span class='ee-v'>Y</span></li><li><span class='ee-k'>SATURATION_BAND_8:</span><span class='ee-v'>N</span></li><li><span class='ee-k'>SATURATION_BAND_9:</span><span class='ee-v'>N</span></li><li><span class='ee-k'>SCENE_CENTER_TIME:</span><span class='ee-v'>16:50:09.8550750Z</span></li><li><span class='ee-k'>SENSOR_ID:</span><span class='ee-v'>OLI_TIRS</span></li><li><span class='ee-k'>SPACECRAFT_ID:</span><span class='ee-v'>LANDSAT_9</span></li><li><span class='ee-k'>STATION_ID:</span><span class='ee-v'>LGN</span></li><li><span class='ee-k'>SUN_AZIMUTH:</span><span class='ee-v'>108.46349663</span></li><li><span class='ee-k'>SUN_ELEVATION:</span><span class='ee-v'>68.85121384</span></li><li><span class='ee-k'>TARGET_WRS_PATH:</span><span class='ee-v'>25</span></li><li><span class='ee-k'>TARGET_WRS_ROW:</span><span class='ee-v'>39</span></li><li><span class='ee-k'>THERMAL_LINES:</span><span class='ee-v'>7871</span></li><li><span class='ee-k'>THERMAL_SAMPLES:</span><span class='ee-v'>7741</span></li><li><span class='ee-k'>UTM_ZONE:</span><span class='ee-v'>15</span></li><li><span class='ee-k'>WRS_PATH:</span><span class='ee-v'>25</span></li><li><span class='ee-k'>WRS_ROW:</span><span class='ee-v'>39</span></li><li><span class='ee-k'>WRS_TYPE:</span><span class='ee-v'>2</span></li><li><span class='ee-k'>system:asset_size:</span><span class='ee-v'>1375183465</span></li><li><label class='ee-shut'>system:footprint: LinearRing (22 vertices)<input type='checkbox' class='ee-toggle'></label><ul><li><span class='ee-k'>type:</span><span class='ee-v'>LinearRing</span></li><li><label class='ee-shut'>coordinates: List (22 elements)<input type='checkbox' class='ee-toggle'></label><ul><li><label class='ee-shut'>0: [-95.96010279679095, 29.62868629943165]<input type='checkbox' class='ee-toggle'></label><ul><li><span class='ee-k'>0:</span><span class='ee-v'>-95.96010279679095</span></li><li><span class='ee-k'>1:</span><span class='ee-v'>29.62868629943165</span></li></ul></li><li><label class='ee-shut'>1: [-95.9600426298778, 29.626628295705775]<input type='checkbox' class='ee-toggle'></label><ul><li><span class='ee-k'>0:</span><span class='ee-v'>-95.9600426298778</span></li><li><span class='ee-k'>1:</span><span class='ee-v'>29.626628295705775</span></li></ul></li><li><label class='ee-shut'>2: [-95.93283121745107, 29.621434016159228]<input type='checkbox' class='ee-toggle'></label><ul><li><span class='ee-k'>0:</span><span class='ee-v'>-95.93283121745107</span></li><li><span class='ee-k'>1:</span><span class='ee-v'>29.621434016159228</span></li></ul></li><li><label class='ee-shut'>3: [-95.74044827458515, 29.584555767399234]<input type='checkbox' class='ee-toggle'></label><ul><li><span class='ee-k'>0:</span><span class='ee-v'>-95.74044827458515</span></li><li><span class='ee-k'>1:</span><span class='ee-v'>29.584555767399234</span></li></ul></li><li><label class='ee-shut'>4: [-94.94930876497908, 29.429635640787176]<input type='checkbox' class='ee-toggle'></label><ul><li><span class='ee-k'>0:</span><span class='ee-v'>-94.94930876497908</span></li><li><span class='ee-k'>1:</span><span class='ee-v'>29.429635640787176</span></li></ul></li><li><label class='ee-shut'>5: [-94.04571151762292, 29.246273537755798]<input type='checkbox' class='ee-toggle'></label><ul><li><span class='ee-k'>0:</span><span class='ee-v'>-94.04571151762292</span></li><li><span class='ee-k'>1:</span><span class='ee-v'>29.246273537755798</span></li></ul></li><li><label class='ee-shut'>6: [-94.0414944871735, 29.26164631980572]<input type='checkbox' class='ee-toggle'></label><ul><li><span class='ee-k'>0:</span><span class='ee-v'>-94.0414944871735</span></li><li><span class='ee-k'>1:</span><span class='ee-v'>29.26164631980572</span></li></ul></li><li><label class='ee-shut'>7: [-93.99647632616754, 29.42856132870834]<input type='checkbox' class='ee-toggle'></label><ul><li><span class='ee-k'>0:</span><span class='ee-v'>-93.99647632616754</span></li><li><span class='ee-k'>1:</span><span class='ee-v'>29.42856132870834</span></li></ul></li><li><label class='ee-shut'>8: [-93.9160163548845, 29.72600478876271]<input type='checkbox' class='ee-toggle'></label><ul><li><span class='ee-k'>0:</span><span class='ee-v'>-93.9160163548845</span></li><li><span class='ee-k'>1:</span><span class='ee-v'>29.72600478876271</span></li></ul></li><li><label class='ee-shut'>9: [-93.84648857616303, 29.982240945070394]<input type='checkbox' class='ee-toggle'></label><ul><li><span class='ee-k'>0:</span><span class='ee-v'>-93.84648857616303</span></li><li><span class='ee-k'>1:</span><span class='ee-v'>29.982240945070394</span></li></ul></li><li><label class='ee-shut'>10: [-93.76073410782004, 30.296664864856908]<input type='checkbox' class='ee-toggle'></label><ul><li><span class='ee-k'>0:</span><span class='ee-v'>-93.76073410782004</span></li><li><span class='ee-k'>1:</span><span class='ee-v'>30.296664864856908</span></li></ul></li><li><label class='ee-shut'>11: [-93.66987241140028, 30.62769859710821]<input type='checkbox' class='ee-toggle'></label><ul><li><span class='ee-k'>0:</span><span class='ee-v'>-93.66987241140028</span></li><li><span class='ee-k'>1:</span><span class='ee-v'>30.62769859710821</span></li></ul></li><li><label class='ee-shut'>12: [-93.58533228269944, 30.93467351978472]<input type='checkbox' class='ee-toggle'></label><ul><li><span class='ee-k'>0:</span><span class='ee-v'>-93.58533228269944</span></li><li><span class='ee-k'>1:</span><span class='ee-v'>30.93467351978472</span></li></ul></li><li><label class='ee-shut'>13: [-93.5747770375093, 30.973149226285873]<input type='checkbox' class='ee-toggle'></label><ul><li><span class='ee-k'>0:</span><span class='ee-v'>-93.5747770375093</span></li><li><span class='ee-k'>1:</span><span class='ee-v'>30.973149226285873</span></li></ul></li><li><label class='ee-shut'>14: [-93.76977728299865, 31.012639524103946]<input type='checkbox' class='ee-toggle'></label><ul><li><span class='ee-k'>0:</span><span class='ee-v'>-93.76977728299865</span></li><li><span class='ee-k'>1:</span><span class='ee-v'>31.012639524103946</span></li></ul></li><li><label class='ee-shut'>15: [-94.77513967665567, 31.21098114265514]<input type='checkbox' class='ee-toggle'></label><ul><li><span class='ee-k'>0:</span><span class='ee-v'>-94.77513967665567</span></li><li><span class='ee-k'>1:</span><span class='ee-v'>31.21098114265514</span></li></ul></li><li><label class='ee-shut'>16: [-95.28613006177012, 31.30844093854911]<input type='checkbox' class='ee-toggle'></label><ul><li><span class='ee-k'>0:</span><span class='ee-v'>-95.28613006177012</span></li><li><span class='ee-k'>1:</span><span class='ee-v'>31.30844093854911</span></li></ul></li><li><label class='ee-shut'>17: [-95.52432913883216, 31.353093469242786]<input type='checkbox' class='ee-toggle'></label><ul><li><span class='ee-k'>0:</span><span class='ee-v'>-95.52432913883216</span></li><li><span class='ee-k'>1:</span><span class='ee-v'>31.353093469242786</span></li></ul></li><li><label class='ee-shut'>18: [-95.63515348859983, 30.919555117833216]<input type='checkbox' class='ee-toggle'></label><ul><li><span class='ee-k'>0:</span><span class='ee-v'>-95.63515348859983</span></li><li><span class='ee-k'>1:</span><span class='ee-v'>30.919555117833216</span></li></ul></li><li><label class='ee-shut'>19: [-95.74427055302223, 30.48932666874811]<input type='checkbox' class='ee-toggle'></label><ul><li><span class='ee-k'>0:</span><span class='ee-v'>-95.74427055302223</span></li><li><span class='ee-k'>1:</span><span class='ee-v'>30.48932666874811</span></li></ul></li><li><label class='ee-shut'>20: [-95.85257604282748, 30.0590406617078]<input type='checkbox' class='ee-toggle'></label><ul><li><span class='ee-k'>0:</span><span class='ee-v'>-95.85257604282748</span></li><li><span class='ee-k'>1:</span><span class='ee-v'>30.0590406617078</span></li></ul></li><li><label class='ee-shut'>21: [-95.96010279679095, 29.62868629943165]<input type='checkbox' class='ee-toggle'></label><ul><li><span class='ee-k'>0:</span><span class='ee-v'>-95.96010279679095</span></li><li><span class='ee-k'>1:</span><span class='ee-v'>29.62868629943165</span></li></ul></li></ul></li></ul></li><li><span class='ee-k'>system:index:</span><span class='ee-v'>LC09_025039_20220530</span></li><li><span class='ee-k'>system:time_end:</span><span class='ee-v'>1653929409855</span></li><li><span class='ee-k'>system:time_start:</span><span class='ee-v'>1653929409855</span></li></ul></li></ul></li></ul></div><script>function toggleHeader() {\n",
       "    const parent = this.parentElement;\n",
       "    parent.className = parent.className === \"ee-open\" ? \"ee-shut\" : \"ee-open\";\n",
       "}\n",
       "\n",
       "for (let c of document.getElementsByClassName(\"ee-toggle\")) {\n",
       "    c.onclick = toggleHeader;\n",
       "}</script></div>"
      ],
      "text/plain": [
       "<ee.computedobject.ComputedObject at 0x1664482a210>"
      ]
     },
     "metadata": {},
     "output_type": "display_data"
    }
   ],
   "source": [
    "img = lst.toList(100).get(25)\n",
    "display(img)"
   ]
  },
  {
   "cell_type": "markdown",
   "metadata": {},
   "source": [
    "##### get known pipeline locations for coordinates"
   ]
  },
  {
   "cell_type": "markdown",
   "metadata": {},
   "source": [
    "* [tx_ngpipeline data](https://drive.google.com/drive/u/0/folders/1kSXfSin5b7wr6S_LMrRoc4sobY-UC-Qq)"
   ]
  },
  {
   "cell_type": "code",
   "execution_count": 11,
   "metadata": {},
   "outputs": [
    {
     "data": {
      "text/html": [
       "\n",
       "            <style>\n",
       "                .geemap-dark {\n",
       "                    --jp-widgets-color: white;\n",
       "                    --jp-widgets-label-color: white;\n",
       "                    --jp-ui-font-color1: white;\n",
       "                    --jp-layout-color2: #454545;\n",
       "                    background-color: #383838;\n",
       "                }\n",
       "\n",
       "                .geemap-dark .jupyter-button {\n",
       "                    --jp-layout-color3: #383838;\n",
       "                }\n",
       "\n",
       "                .geemap-colab {\n",
       "                    background-color: var(--colab-primary-surface-color, white);\n",
       "                }\n",
       "\n",
       "                .geemap-colab .jupyter-button {\n",
       "                    --jp-layout-color3: var(--colab-primary-surface-color, white);\n",
       "                }\n",
       "            </style>\n",
       "            "
      ],
      "text/plain": [
       "<IPython.core.display.HTML object>"
      ]
     },
     "metadata": {},
     "output_type": "display_data"
    },
    {
     "name": "stderr",
     "output_type": "stream",
     "text": [
      "C:\\Users\\timol\\AppData\\Local\\Temp\\ipykernel_28368\\2156654528.py:5: UserWarning: Geometry is in a geographic CRS. Results from 'centroid' are likely incorrect. Use 'GeoSeries.to_crs()' to re-project geometries to a projected CRS before this operation.\n",
      "\n",
      "  MercNGPipes[\"centroids\"] = MercNGPipes.geometry.centroid\n",
      "C:\\Users\\timol\\AppData\\Local\\Temp\\ipykernel_28368\\2156654528.py:6: UserWarning: Geometry is in a geographic CRS. Results from 'centroid' are likely incorrect. Use 'GeoSeries.to_crs()' to re-project geometries to a projected CRS before this operation.\n",
      "\n",
      "  MercNGPipes[\"beg\"] = MercNGPipes.geometry.boundary.centroid\n"
     ]
    }
   ],
   "source": [
    "zipPath = \"D:/Downloads/\"\n",
    "ngPipePath = zipPath+\"TX_NGPipe/NaturalGas_Pipelines_TX.shp\"\n",
    "ngPipes = gpd.read_file(ngPipePath)\n",
    "MercNGPipes = ngPipes.to_crs(epsg=4326)\n",
    "MercNGPipes[\"centroids\"] = MercNGPipes.geometry.centroid\n",
    "MercNGPipes[\"beg\"] = MercNGPipes.geometry.boundary.centroid\n",
    "\n"
   ]
  },
  {
   "cell_type": "markdown",
   "metadata": {},
   "source": [
    "## get bounding box, picture, and all"
   ]
  },
  {
   "cell_type": "code",
   "execution_count": 21,
   "metadata": {},
   "outputs": [
    {
     "data": {
      "text/html": [
       "\n",
       "            <style>\n",
       "                .geemap-dark {\n",
       "                    --jp-widgets-color: white;\n",
       "                    --jp-widgets-label-color: white;\n",
       "                    --jp-ui-font-color1: white;\n",
       "                    --jp-layout-color2: #454545;\n",
       "                    background-color: #383838;\n",
       "                }\n",
       "\n",
       "                .geemap-dark .jupyter-button {\n",
       "                    --jp-layout-color3: #383838;\n",
       "                }\n",
       "\n",
       "                .geemap-colab {\n",
       "                    background-color: var(--colab-primary-surface-color, white);\n",
       "                }\n",
       "\n",
       "                .geemap-colab .jupyter-button {\n",
       "                    --jp-layout-color3: var(--colab-primary-surface-color, white);\n",
       "                }\n",
       "            </style>\n",
       "            "
      ],
      "text/plain": [
       "<IPython.core.display.HTML object>"
      ]
     },
     "metadata": {},
     "output_type": "display_data"
    }
   ],
   "source": [
    "metersPerUnit = (1.11/0.00001)\n",
    "FHmeters = 500/metersPerUnit\n",
    "aerColl = ee.ImageCollection(\"USDA/NAIP/DOQQ\")\n",
    "tx = ee.Geometry.Rectangle(-106.64719063660635,25.840437651866516,-93.5175532104321,36.50050935248352)\n",
    "\n",
    "\n",
    "for i in range(len(MercNGPipes)):\n",
    "    # using new shapefile, so more \n",
    "    lat = MercNGPipes.centroids[i:i+1].squeeze().y\n",
    "    lon = MercNGPipes.centroids[i:i+1].squeeze().x\n",
    "    # bbox args: west, south, east, north\n",
    "    bbox = ee.Geometry.BBox(lon-FHmeters,lat-FHmeters,lon+FHmeters,lat+FHmeters)\n",
    "\n",
    "    # get image(s) within box\n",
    "    aList = aerColl.select('R','G','B','N').filterDate(i_date,f_date).filterBounds(bbox)\n",
    "    ## need to check if list is empty\n",
    "    ## use .filterBounds(tx) if later issues\n",
    "\n",
    "    bImg = ee.Image(aList.toList(100).get(1))\n",
    "\n",
    "\n",
    "    ## Export section\n",
    "    # task = ee.batch.Export.image.toCloudStorage(ee.Image(aImg),\n",
    "    #                         description=f\"pipeline{i}\",  # put part of pipeline here too\n",
    "    #                         # ^ put desired name for the task & file in cloud storage\n",
    "    #                         bucket = \"test_export_bucket0\",  # should be gee_image_exports\n",
    "    #                         region=bbox,  # I wonder if filtering by box first works too\n",
    "    #                         #maxPixels=1500000000  \n",
    "    #                         )\n",
    "    # task.start()\n",
    "\n",
    "# print(lat,lat)\n",
    "# print(bbox)"
   ]
  },
  {
   "cell_type": "markdown",
   "metadata": {},
   "source": [
    "### show map of last pipeline image"
   ]
  },
  {
   "cell_type": "code",
   "execution_count": 19,
   "metadata": {},
   "outputs": [
    {
     "data": {
      "text/html": [
       "\n",
       "            <style>\n",
       "                .geemap-dark {\n",
       "                    --jp-widgets-color: white;\n",
       "                    --jp-widgets-label-color: white;\n",
       "                    --jp-ui-font-color1: white;\n",
       "                    --jp-layout-color2: #454545;\n",
       "                    background-color: #383838;\n",
       "                }\n",
       "\n",
       "                .geemap-dark .jupyter-button {\n",
       "                    --jp-layout-color3: #383838;\n",
       "                }\n",
       "\n",
       "                .geemap-colab {\n",
       "                    background-color: var(--colab-primary-surface-color, white);\n",
       "                }\n",
       "\n",
       "                .geemap-colab .jupyter-button {\n",
       "                    --jp-layout-color3: var(--colab-primary-surface-color, white);\n",
       "                }\n",
       "            </style>\n",
       "            "
      ],
      "text/plain": [
       "<IPython.core.display.HTML object>"
      ]
     },
     "metadata": {},
     "output_type": "display_data"
    },
    {
     "data": {
      "text/html": [
       "<div><style>:root {\n",
       "  --font-color-primary: var(--jp-content-font-color0, rgba(0, 0, 0, 1));\n",
       "  --font-color-secondary: var(--jp-content-font-color2, rgba(0, 0, 0, 0.6));\n",
       "  --font-color-accent: rgba(123, 31, 162, 1);\n",
       "  --border-color: var(--jp-border-color2, #e0e0e0);\n",
       "  --background-color: var(--jp-layout-color0, white);\n",
       "  --background-color-row-even: var(--jp-layout-color1, white);\n",
       "  --background-color-row-odd: var(--jp-layout-color2, #eeeeee);\n",
       "}\n",
       "\n",
       "html[theme=\"dark\"],\n",
       "body[data-theme=\"dark\"],\n",
       "body.vscode-dark {\n",
       "  --font-color-primary: rgba(255, 255, 255, 1);\n",
       "  --font-color-secondary: rgba(255, 255, 255, 0.6);\n",
       "  --font-color-accent: rgb(173, 132, 190);\n",
       "  --border-color: #2e2e2e;\n",
       "  --background-color: #111111;\n",
       "  --background-color-row-even: #111111;\n",
       "  --background-color-row-odd: #313131;\n",
       "}\n",
       "\n",
       ".ee {\n",
       "  padding: 1em;\n",
       "  line-height: 1.5em;\n",
       "  min-width: 300px;\n",
       "  max-width: 1200px;\n",
       "  overflow-y: scroll;\n",
       "  max-height: 600px;\n",
       "  border: 1px solid var(--border-color);\n",
       "  font-family: monospace;\n",
       "}\n",
       "\n",
       ".ee li {\n",
       "  list-style-type: none;\n",
       "}\n",
       "\n",
       ".ee ul {\n",
       "  padding-left: 1.5em !important;\n",
       "  margin: 0;\n",
       "}\n",
       "\n",
       ".ee > ul {\n",
       "  padding-left: 0 !important;\n",
       "}\n",
       "\n",
       ".ee-open,\n",
       ".ee-shut {\n",
       "  color: var(--font-color-secondary);\n",
       "  cursor: pointer;\n",
       "  margin: 0;\n",
       "}\n",
       "\n",
       ".ee-open:hover,\n",
       ".ee-shut:hover {\n",
       "  color: var(--font-color-primary);\n",
       "}\n",
       "\n",
       ".ee-k {\n",
       "  color: var(--font-color-accent);\n",
       "  margin-right: 6px;\n",
       "}\n",
       "\n",
       ".ee-v {\n",
       "  color: var(--font-color-primary);\n",
       "}\n",
       "\n",
       ".ee-toggle {\n",
       "  display: none;\n",
       "}\n",
       "\n",
       ".ee-shut + ul {\n",
       "  display: none;\n",
       "}\n",
       "\n",
       ".ee-open + ul {\n",
       "  display: block;\n",
       "}\n",
       "\n",
       ".ee-shut::before {\n",
       "  display: inline-block;\n",
       "  content: \"▼\";\n",
       "  margin-right: 6px;\n",
       "  transform: rotate(-90deg);\n",
       "  transition: transform 0.2s;\n",
       "}\n",
       "\n",
       ".ee-open::before {\n",
       "  transform: rotate(0deg);\n",
       "  display: inline-block;\n",
       "  content: \"▼\";\n",
       "  margin-right: 6px;\n",
       "  transition: transform 0.2s;\n",
       "}\n",
       "</style><div class='ee'><ul><li><label class='ee-shut'>Image USDA/NAIP/DOQQ/m_2509704_ne_14_060_20220605 (4 bands)<input type='checkbox' class='ee-toggle'></label><ul><li><span class='ee-k'>type:</span><span class='ee-v'>Image</span></li><li><span class='ee-k'>id:</span><span class='ee-v'>USDA/NAIP/DOQQ/m_2509704_ne_14_060_20220605</span></li><li><span class='ee-k'>version:</span><span class='ee-v'>1691081160245017</span></li><li><label class='ee-shut'>bands: List (4 elements)<input type='checkbox' class='ee-toggle'></label><ul><li><label class='ee-shut'>0: \"R\", unsigned int8, EPSG:26914, 11475x12562 px<input type='checkbox' class='ee-toggle'></label><ul><li><span class='ee-k'>id:</span><span class='ee-v'>R</span></li><li><span class='ee-k'>crs:</span><span class='ee-v'>EPSG:26914</span></li><li><label class='ee-shut'>crs_transform: [0.6, 0, 643620, 0, -0.6, 2876844.6]<input type='checkbox' class='ee-toggle'></label><ul><li><span class='ee-k'>0:</span><span class='ee-v'>0.6</span></li><li><span class='ee-k'>1:</span><span class='ee-v'>0</span></li><li><span class='ee-k'>2:</span><span class='ee-v'>643620</span></li><li><span class='ee-k'>3:</span><span class='ee-v'>0</span></li><li><span class='ee-k'>4:</span><span class='ee-v'>-0.6</span></li><li><span class='ee-k'>5:</span><span class='ee-v'>2876844.6</span></li></ul></li><li><label class='ee-shut'>data_type: unsigned int8<input type='checkbox' class='ee-toggle'></label><ul><li><span class='ee-k'>type:</span><span class='ee-v'>PixelType</span></li><li><span class='ee-k'>max:</span><span class='ee-v'>255</span></li><li><span class='ee-k'>min:</span><span class='ee-v'>0</span></li><li><span class='ee-k'>precision:</span><span class='ee-v'>int</span></li></ul></li><li><label class='ee-shut'>dimensions: [11475, 12562]<input type='checkbox' class='ee-toggle'></label><ul><li><span class='ee-k'>0:</span><span class='ee-v'>11475</span></li><li><span class='ee-k'>1:</span><span class='ee-v'>12562</span></li></ul></li></ul></li><li><label class='ee-shut'>1: \"G\", unsigned int8, EPSG:26914, 11475x12562 px<input type='checkbox' class='ee-toggle'></label><ul><li><span class='ee-k'>id:</span><span class='ee-v'>G</span></li><li><span class='ee-k'>crs:</span><span class='ee-v'>EPSG:26914</span></li><li><label class='ee-shut'>crs_transform: [0.6, 0, 643620, 0, -0.6, 2876844.6]<input type='checkbox' class='ee-toggle'></label><ul><li><span class='ee-k'>0:</span><span class='ee-v'>0.6</span></li><li><span class='ee-k'>1:</span><span class='ee-v'>0</span></li><li><span class='ee-k'>2:</span><span class='ee-v'>643620</span></li><li><span class='ee-k'>3:</span><span class='ee-v'>0</span></li><li><span class='ee-k'>4:</span><span class='ee-v'>-0.6</span></li><li><span class='ee-k'>5:</span><span class='ee-v'>2876844.6</span></li></ul></li><li><label class='ee-shut'>data_type: unsigned int8<input type='checkbox' class='ee-toggle'></label><ul><li><span class='ee-k'>type:</span><span class='ee-v'>PixelType</span></li><li><span class='ee-k'>max:</span><span class='ee-v'>255</span></li><li><span class='ee-k'>min:</span><span class='ee-v'>0</span></li><li><span class='ee-k'>precision:</span><span class='ee-v'>int</span></li></ul></li><li><label class='ee-shut'>dimensions: [11475, 12562]<input type='checkbox' class='ee-toggle'></label><ul><li><span class='ee-k'>0:</span><span class='ee-v'>11475</span></li><li><span class='ee-k'>1:</span><span class='ee-v'>12562</span></li></ul></li></ul></li><li><label class='ee-shut'>2: \"B\", unsigned int8, EPSG:26914, 11475x12562 px<input type='checkbox' class='ee-toggle'></label><ul><li><span class='ee-k'>id:</span><span class='ee-v'>B</span></li><li><span class='ee-k'>crs:</span><span class='ee-v'>EPSG:26914</span></li><li><label class='ee-shut'>crs_transform: [0.6, 0, 643620, 0, -0.6, 2876844.6]<input type='checkbox' class='ee-toggle'></label><ul><li><span class='ee-k'>0:</span><span class='ee-v'>0.6</span></li><li><span class='ee-k'>1:</span><span class='ee-v'>0</span></li><li><span class='ee-k'>2:</span><span class='ee-v'>643620</span></li><li><span class='ee-k'>3:</span><span class='ee-v'>0</span></li><li><span class='ee-k'>4:</span><span class='ee-v'>-0.6</span></li><li><span class='ee-k'>5:</span><span class='ee-v'>2876844.6</span></li></ul></li><li><label class='ee-shut'>data_type: unsigned int8<input type='checkbox' class='ee-toggle'></label><ul><li><span class='ee-k'>type:</span><span class='ee-v'>PixelType</span></li><li><span class='ee-k'>max:</span><span class='ee-v'>255</span></li><li><span class='ee-k'>min:</span><span class='ee-v'>0</span></li><li><span class='ee-k'>precision:</span><span class='ee-v'>int</span></li></ul></li><li><label class='ee-shut'>dimensions: [11475, 12562]<input type='checkbox' class='ee-toggle'></label><ul><li><span class='ee-k'>0:</span><span class='ee-v'>11475</span></li><li><span class='ee-k'>1:</span><span class='ee-v'>12562</span></li></ul></li></ul></li><li><label class='ee-shut'>3: \"N\", unsigned int8, EPSG:26914, 11475x12562 px<input type='checkbox' class='ee-toggle'></label><ul><li><span class='ee-k'>id:</span><span class='ee-v'>N</span></li><li><span class='ee-k'>crs:</span><span class='ee-v'>EPSG:26914</span></li><li><label class='ee-shut'>crs_transform: [0.6, 0, 643620, 0, -0.6, 2876844.6]<input type='checkbox' class='ee-toggle'></label><ul><li><span class='ee-k'>0:</span><span class='ee-v'>0.6</span></li><li><span class='ee-k'>1:</span><span class='ee-v'>0</span></li><li><span class='ee-k'>2:</span><span class='ee-v'>643620</span></li><li><span class='ee-k'>3:</span><span class='ee-v'>0</span></li><li><span class='ee-k'>4:</span><span class='ee-v'>-0.6</span></li><li><span class='ee-k'>5:</span><span class='ee-v'>2876844.6</span></li></ul></li><li><label class='ee-shut'>data_type: unsigned int8<input type='checkbox' class='ee-toggle'></label><ul><li><span class='ee-k'>type:</span><span class='ee-v'>PixelType</span></li><li><span class='ee-k'>max:</span><span class='ee-v'>255</span></li><li><span class='ee-k'>min:</span><span class='ee-v'>0</span></li><li><span class='ee-k'>precision:</span><span class='ee-v'>int</span></li></ul></li><li><label class='ee-shut'>dimensions: [11475, 12562]<input type='checkbox' class='ee-toggle'></label><ul><li><span class='ee-k'>0:</span><span class='ee-v'>11475</span></li><li><span class='ee-k'>1:</span><span class='ee-v'>12562</span></li></ul></li></ul></li></ul></li><li><label class='ee-shut'>properties: Object (6 properties)<input type='checkbox' class='ee-toggle'></label><ul><li><span class='ee-k'>system:asset_size:</span><span class='ee-v'>601385709</span></li><li><label class='ee-shut'>system:footprint: LinearRing (19 vertices)<input type='checkbox' class='ee-toggle'></label><ul><li><span class='ee-k'>type:</span><span class='ee-v'>LinearRing</span></li><li><label class='ee-shut'>coordinates: List (19 elements)<input type='checkbox' class='ee-toggle'></label><ul><li><label class='ee-shut'>0: [-97.49706794769845, 25.93464570454363]<input type='checkbox' class='ee-toggle'></label><ul><li><span class='ee-k'>0:</span><span class='ee-v'>-97.49706794769845</span></li><li><span class='ee-k'>1:</span><span class='ee-v'>25.93464570454363</span></li></ul></li><li><label class='ee-shut'>1: [-97.49706786510212, 25.934646426299064]<input type='checkbox' class='ee-toggle'></label><ul><li><span class='ee-k'>0:</span><span class='ee-v'>-97.49706786510212</span></li><li><span class='ee-k'>1:</span><span class='ee-v'>25.934646426299064</span></li></ul></li><li><label class='ee-shut'>2: [-97.49620316973521, 26.00266136008991]<input type='checkbox' class='ee-toggle'></label><ul><li><span class='ee-k'>0:</span><span class='ee-v'>-97.49620316973521</span></li><li><span class='ee-k'>1:</span><span class='ee-v'>26.00266136008991</span></li></ul></li><li><label class='ee-shut'>3: [-97.49620556499826, 26.002663925758576]<input type='checkbox' class='ee-toggle'></label><ul><li><span class='ee-k'>0:</span><span class='ee-v'>-97.49620556499826</span></li><li><span class='ee-k'>1:</span><span class='ee-v'>26.002663925758576</span></li></ul></li><li><label class='ee-shut'>4: [-97.49620762988027, 26.00266668788112]<input type='checkbox' class='ee-toggle'></label><ul><li><span class='ee-k'>0:</span><span class='ee-v'>-97.49620762988027</span></li><li><span class='ee-k'>1:</span><span class='ee-v'>26.00266668788112</span></li></ul></li><li><label class='ee-shut'>5: [-97.49620862102365, 26.00266681581534]<input type='checkbox' class='ee-toggle'></label><ul><li><span class='ee-k'>0:</span><span class='ee-v'>-97.49620862102365</span></li><li><span class='ee-k'>1:</span><span class='ee-v'>26.00266681581534</span></li></ul></li><li><label class='ee-shut'>6: [-97.56496672245825, 26.0033656005538]<input type='checkbox' class='ee-toggle'></label><ul><li><span class='ee-k'>0:</span><span class='ee-v'>-97.56496672245825</span></li><li><span class='ee-k'>1:</span><span class='ee-v'>26.0033656005538</span></li></ul></li><li><label class='ee-shut'>7: [-97.56496953349115, 26.00336348110963]<input type='checkbox' class='ee-toggle'></label><ul><li><span class='ee-k'>0:</span><span class='ee-v'>-97.56496953349115</span></li><li><span class='ee-k'>1:</span><span class='ee-v'>26.00336348110963</span></li></ul></li><li><label class='ee-shut'>8: [-97.56497259255647, 26.003361617640973]<input type='checkbox' class='ee-toggle'></label><ul><li><span class='ee-k'>0:</span><span class='ee-v'>-97.56497259255647</span></li><li><span class='ee-k'>1:</span><span class='ee-v'>26.003361617640973</span></li></ul></li><li><label class='ee-shut'>9: [-97.56497275791135, 26.003360981425168]<input type='checkbox' class='ee-toggle'></label><ul><li><span class='ee-k'>0:</span><span class='ee-v'>-97.56497275791135</span></li><li><span class='ee-k'>1:</span><span class='ee-v'>26.003360981425168</span></li></ul></li><li><label class='ee-shut'>10: [-97.56497275791135, 26.00336026421079]<input type='checkbox' class='ee-toggle'></label><ul><li><span class='ee-k'>0:</span><span class='ee-v'>-97.56497275791135</span></li><li><span class='ee-k'>1:</span><span class='ee-v'>26.00336026421079</span></li></ul></li><li><label class='ee-shut'>11: [-97.56579796638135, 25.935343161858178]<input type='checkbox' class='ee-toggle'></label><ul><li><span class='ee-k'>0:</span><span class='ee-v'>-97.56579796638135</span></li><li><span class='ee-k'>1:</span><span class='ee-v'>25.935343161858178</span></li></ul></li><li><label class='ee-shut'>12: [-97.56579556870703, 25.935340686542304]<input type='checkbox' class='ee-toggle'></label><ul><li><span class='ee-k'>0:</span><span class='ee-v'>-97.56579556870703</span></li><li><span class='ee-k'>1:</span><span class='ee-v'>25.935340686542304</span></li></ul></li><li><label class='ee-shut'>13: [-97.56579350174647, 25.935337924925477]<input type='checkbox' class='ee-toggle'></label><ul><li><span class='ee-k'>0:</span><span class='ee-v'>-97.56579350174647</span></li><li><span class='ee-k'>1:</span><span class='ee-v'>25.935337924925477</span></li></ul></li><li><label class='ee-shut'>14: [-97.5657925096054, 25.935337707730184]<input type='checkbox' class='ee-toggle'></label><ul><li><span class='ee-k'>0:</span><span class='ee-v'>-97.5657925096054</span></li><li><span class='ee-k'>1:</span><span class='ee-v'>25.935337707730184</span></li></ul></li><li><label class='ee-shut'>15: [-97.49707397722948, 25.93464108758054]<input type='checkbox' class='ee-toggle'></label><ul><li><span class='ee-k'>0:</span><span class='ee-v'>-97.49707397722948</span></li><li><span class='ee-k'>1:</span><span class='ee-v'>25.93464108758054</span></li></ul></li><li><label class='ee-shut'>16: [-97.49707116895469, 25.934643206004328]<input type='checkbox' class='ee-toggle'></label><ul><li><span class='ee-k'>0:</span><span class='ee-v'>-97.49707116895469</span></li><li><span class='ee-k'>1:</span><span class='ee-v'>25.934643206004328</span></li></ul></li><li><label class='ee-shut'>17: [-97.49706803029476, 25.934645072473245]<input type='checkbox' class='ee-toggle'></label><ul><li><span class='ee-k'>0:</span><span class='ee-v'>-97.49706803029476</span></li><li><span class='ee-k'>1:</span><span class='ee-v'>25.934645072473245</span></li></ul></li><li><label class='ee-shut'>18: [-97.49706794769845, 25.93464570454363]<input type='checkbox' class='ee-toggle'></label><ul><li><span class='ee-k'>0:</span><span class='ee-v'>-97.49706794769845</span></li><li><span class='ee-k'>1:</span><span class='ee-v'>25.93464570454363</span></li></ul></li></ul></li></ul></li><li><span class='ee-k'>system:index:</span><span class='ee-v'>m_2509704_ne_14_060_20220605</span></li><li><span class='ee-k'>system:time_end:</span><span class='ee-v'>1654387200000</span></li><li><span class='ee-k'>system:time_start:</span><span class='ee-v'>1654387200000</span></li><li><span class='ee-k'>year:</span><span class='ee-v'>2022</span></li></ul></li></ul></li></ul></div><script>function toggleHeader() {\n",
       "    const parent = this.parentElement;\n",
       "    parent.className = parent.className === \"ee-open\" ? \"ee-shut\" : \"ee-open\";\n",
       "}\n",
       "\n",
       "for (let c of document.getElementsByClassName(\"ee-toggle\")) {\n",
       "    c.onclick = toggleHeader;\n",
       "}</script></div>"
      ],
      "text/plain": [
       "<ee.image.Image at 0x1a31ede3090>"
      ]
     },
     "metadata": {},
     "output_type": "display_data"
    },
    {
     "name": "stdout",
     "output_type": "stream",
     "text": [
      "None\n"
     ]
    }
   ],
   "source": [
    "# view display of image with tx filtered Region\n",
    "print(display(aImg))"
   ]
  },
  {
   "cell_type": "code",
   "execution_count": 22,
   "metadata": {},
   "outputs": [
    {
     "data": {
      "text/html": [
       "\n",
       "            <style>\n",
       "                .geemap-dark {\n",
       "                    --jp-widgets-color: white;\n",
       "                    --jp-widgets-label-color: white;\n",
       "                    --jp-ui-font-color1: white;\n",
       "                    --jp-layout-color2: #454545;\n",
       "                    background-color: #383838;\n",
       "                }\n",
       "\n",
       "                .geemap-dark .jupyter-button {\n",
       "                    --jp-layout-color3: #383838;\n",
       "                }\n",
       "\n",
       "                .geemap-colab {\n",
       "                    background-color: var(--colab-primary-surface-color, white);\n",
       "                }\n",
       "\n",
       "                .geemap-colab .jupyter-button {\n",
       "                    --jp-layout-color3: var(--colab-primary-surface-color, white);\n",
       "                }\n",
       "            </style>\n",
       "            "
      ],
      "text/plain": [
       "<IPython.core.display.HTML object>"
      ]
     },
     "metadata": {},
     "output_type": "display_data"
    },
    {
     "name": "stderr",
     "output_type": "stream",
     "text": [
      "d:\\timol\\Grad_School\\Spring_2024\\Remote_Sensing\\final_project\\pipeEnv\\Lib\\site-packages\\eerepr\\repr.py:57: UserWarning: Getting info failed with: 'List.get: List is empty (index is 1).'. Falling back to string repr.\n",
      "  warn(f\"Getting info failed with: '{e}'. Falling back to string repr.\")\n"
     ]
    },
    {
     "data": {
      "text/html": [
       "<pre>&lt;ee.image.Image object at 0x000001A31ED79190&gt;</pre>"
      ],
      "text/plain": [
       "<ee.image.Image at 0x1a31ed79190>"
      ]
     },
     "metadata": {},
     "output_type": "display_data"
    },
    {
     "data": {
      "text/html": [
       "<pre>&lt;ee.image.Image object at 0x000001A31ED79190&gt;</pre>"
      ],
      "text/plain": [
       "<ee.image.Image at 0x1a31ed79190>"
      ]
     },
     "metadata": {},
     "output_type": "display_data"
    },
    {
     "name": "stdout",
     "output_type": "stream",
     "text": [
      "None\n"
     ]
    }
   ],
   "source": [
    "# view display of image with bbox filtered Region\n",
    "print(display(bImg))"
   ]
  },
  {
   "cell_type": "code",
   "execution_count": 17,
   "metadata": {},
   "outputs": [
    {
     "data": {
      "text/html": [
       "\n",
       "            <style>\n",
       "                .geemap-dark {\n",
       "                    --jp-widgets-color: white;\n",
       "                    --jp-widgets-label-color: white;\n",
       "                    --jp-ui-font-color1: white;\n",
       "                    --jp-layout-color2: #454545;\n",
       "                    background-color: #383838;\n",
       "                }\n",
       "\n",
       "                .geemap-dark .jupyter-button {\n",
       "                    --jp-layout-color3: #383838;\n",
       "                }\n",
       "\n",
       "                .geemap-colab {\n",
       "                    background-color: var(--colab-primary-surface-color, white);\n",
       "                }\n",
       "\n",
       "                .geemap-colab .jupyter-button {\n",
       "                    --jp-layout-color3: var(--colab-primary-surface-color, white);\n",
       "                }\n",
       "            </style>\n",
       "            "
      ],
      "text/plain": [
       "<IPython.core.display.HTML object>"
      ]
     },
     "metadata": {},
     "output_type": "display_data"
    },
    {
     "data": {
      "text/html": [
       "<div style=\"width:100%;\"><div style=\"position:relative;width:100%;height:0;padding-bottom:60%;\"><span style=\"color:#565656\">Make this Notebook Trusted to load map: File -> Trust Notebook</span><iframe srcdoc=\"&lt;!DOCTYPE html&gt;\n",
       "&lt;html&gt;\n",
       "&lt;head&gt;\n",
       "    \n",
       "    &lt;meta http-equiv=&quot;content-type&quot; content=&quot;text/html; charset=UTF-8&quot; /&gt;\n",
       "    \n",
       "        &lt;script&gt;\n",
       "            L_NO_TOUCH = false;\n",
       "            L_DISABLE_3D = false;\n",
       "        &lt;/script&gt;\n",
       "    \n",
       "    &lt;style&gt;html, body {width: 100%;height: 100%;margin: 0;padding: 0;}&lt;/style&gt;\n",
       "    &lt;style&gt;#map {position:absolute;top:0;bottom:0;right:0;left:0;}&lt;/style&gt;\n",
       "    &lt;script src=&quot;https://cdn.jsdelivr.net/npm/leaflet@1.9.3/dist/leaflet.js&quot;&gt;&lt;/script&gt;\n",
       "    &lt;script src=&quot;https://code.jquery.com/jquery-3.7.1.min.js&quot;&gt;&lt;/script&gt;\n",
       "    &lt;script src=&quot;https://cdn.jsdelivr.net/npm/bootstrap@5.2.2/dist/js/bootstrap.bundle.min.js&quot;&gt;&lt;/script&gt;\n",
       "    &lt;script src=&quot;https://cdnjs.cloudflare.com/ajax/libs/Leaflet.awesome-markers/2.0.2/leaflet.awesome-markers.js&quot;&gt;&lt;/script&gt;\n",
       "    &lt;link rel=&quot;stylesheet&quot; href=&quot;https://cdn.jsdelivr.net/npm/leaflet@1.9.3/dist/leaflet.css&quot;/&gt;\n",
       "    &lt;link rel=&quot;stylesheet&quot; href=&quot;https://cdn.jsdelivr.net/npm/bootstrap@5.2.2/dist/css/bootstrap.min.css&quot;/&gt;\n",
       "    &lt;link rel=&quot;stylesheet&quot; href=&quot;https://netdna.bootstrapcdn.com/bootstrap/3.0.0/css/bootstrap.min.css&quot;/&gt;\n",
       "    &lt;link rel=&quot;stylesheet&quot; href=&quot;https://cdn.jsdelivr.net/npm/@fortawesome/fontawesome-free@6.2.0/css/all.min.css&quot;/&gt;\n",
       "    &lt;link rel=&quot;stylesheet&quot; href=&quot;https://cdnjs.cloudflare.com/ajax/libs/Leaflet.awesome-markers/2.0.2/leaflet.awesome-markers.css&quot;/&gt;\n",
       "    &lt;link rel=&quot;stylesheet&quot; href=&quot;https://cdn.jsdelivr.net/gh/python-visualization/folium/folium/templates/leaflet.awesome.rotate.min.css&quot;/&gt;\n",
       "    \n",
       "            &lt;meta name=&quot;viewport&quot; content=&quot;width=device-width,\n",
       "                initial-scale=1.0, maximum-scale=1.0, user-scalable=no&quot; /&gt;\n",
       "            &lt;style&gt;\n",
       "                #map_3635e5ed817ec0f9fa6388fd898fb2e5 {\n",
       "                    position: relative;\n",
       "                    width: 100.0%;\n",
       "                    height: 100.0%;\n",
       "                    left: 0.0%;\n",
       "                    top: 0.0%;\n",
       "                }\n",
       "                .leaflet-container { font-size: 1rem; }\n",
       "            &lt;/style&gt;\n",
       "        \n",
       "    &lt;script src=&quot;https://cdn.jsdelivr.net/npm/leaflet.fullscreen@3.0.0/Control.FullScreen.min.js&quot;&gt;&lt;/script&gt;\n",
       "    &lt;link rel=&quot;stylesheet&quot; href=&quot;https://cdn.jsdelivr.net/npm/leaflet.fullscreen@3.0.0/Control.FullScreen.css&quot;/&gt;\n",
       "&lt;/head&gt;\n",
       "&lt;body&gt;\n",
       "    \n",
       "    \n",
       "            &lt;div class=&quot;folium-map&quot; id=&quot;map_3635e5ed817ec0f9fa6388fd898fb2e5&quot; &gt;&lt;/div&gt;\n",
       "        \n",
       "&lt;/body&gt;\n",
       "&lt;script&gt;\n",
       "    \n",
       "    \n",
       "            var map_3635e5ed817ec0f9fa6388fd898fb2e5 = L.map(\n",
       "                &quot;map_3635e5ed817ec0f9fa6388fd898fb2e5&quot;,\n",
       "                {\n",
       "                    center: [0.0, 0.0],\n",
       "                    crs: L.CRS.EPSG3857,\n",
       "                    zoom: 1,\n",
       "                    zoomControl: true,\n",
       "                    preferCanvas: false,\n",
       "                }\n",
       "            );\n",
       "\n",
       "            \n",
       "\n",
       "        \n",
       "    \n",
       "            var tile_layer_801bb4145bcde0164d449433ed17f069 = L.tileLayer(\n",
       "                &quot;https://tile.openstreetmap.org/{z}/{x}/{y}.png&quot;,\n",
       "                {&quot;attribution&quot;: &quot;\\u0026copy; \\u003ca href=\\&quot;https://www.openstreetmap.org/copyright\\&quot;\\u003eOpenStreetMap\\u003c/a\\u003e contributors&quot;, &quot;detectRetina&quot;: false, &quot;maxNativeZoom&quot;: 19, &quot;maxZoom&quot;: 19, &quot;minZoom&quot;: 0, &quot;noWrap&quot;: false, &quot;opacity&quot;: 1, &quot;subdomains&quot;: &quot;abc&quot;, &quot;tms&quot;: false}\n",
       "            );\n",
       "        \n",
       "    \n",
       "            tile_layer_801bb4145bcde0164d449433ed17f069.addTo(map_3635e5ed817ec0f9fa6388fd898fb2e5);\n",
       "        \n",
       "    \n",
       "            var tile_layer_ada43b3245f5df9538c372465f936dc9 = L.tileLayer(\n",
       "                &quot;https://mt1.google.com/vt/lyrs=y\\u0026x={x}\\u0026y={y}\\u0026z={z}&quot;,\n",
       "                {&quot;attribution&quot;: &quot;Google&quot;, &quot;detectRetina&quot;: false, &quot;maxNativeZoom&quot;: 18, &quot;maxZoom&quot;: 18, &quot;minZoom&quot;: 0, &quot;noWrap&quot;: false, &quot;opacity&quot;: 1, &quot;subdomains&quot;: &quot;abc&quot;, &quot;tms&quot;: false}\n",
       "            );\n",
       "        \n",
       "    \n",
       "            tile_layer_ada43b3245f5df9538c372465f936dc9.addTo(map_3635e5ed817ec0f9fa6388fd898fb2e5);\n",
       "        \n",
       "    \n",
       "            map_3635e5ed817ec0f9fa6388fd898fb2e5.fitBounds(\n",
       "                [[35.936032409227366, -101.49564247119878], [35.936032409227366, -101.49564247119878]],\n",
       "                {&quot;maxZoom&quot;: 10}\n",
       "            );\n",
       "        \n",
       "    \n",
       "            var tile_layer_886ac8baa3e4f0c172082522d0538002 = L.tileLayer(\n",
       "                &quot;https://earthengine.googleapis.com/v1/projects/pipeline-elevation-project/maps/a2103cd0d2bbe09e4508d9bb63b6f598-e0643c843385e97eb445d9940fa99260/tiles/{z}/{x}/{y}&quot;,\n",
       "                {&quot;attribution&quot;: &quot;Google Earth Engine&quot;, &quot;detectRetina&quot;: false, &quot;maxNativeZoom&quot;: 18, &quot;maxZoom&quot;: 18, &quot;minZoom&quot;: 0, &quot;noWrap&quot;: false, &quot;opacity&quot;: 1, &quot;subdomains&quot;: &quot;abc&quot;, &quot;tms&quot;: false}\n",
       "            );\n",
       "        \n",
       "    \n",
       "            tile_layer_886ac8baa3e4f0c172082522d0538002.addTo(map_3635e5ed817ec0f9fa6388fd898fb2e5);\n",
       "        \n",
       "    \n",
       "            var layer_control_262e24c7dac7a8a550d1d85ea727ea36_layers = {\n",
       "                base_layers : {\n",
       "                    &quot;openstreetmap&quot; : tile_layer_801bb4145bcde0164d449433ed17f069,\n",
       "                },\n",
       "                overlays :  {\n",
       "                    &quot;Google Satellite&quot; : tile_layer_ada43b3245f5df9538c372465f936dc9,\n",
       "                    &quot;default color composite&quot; : tile_layer_886ac8baa3e4f0c172082522d0538002,\n",
       "                },\n",
       "            };\n",
       "            let layer_control_262e24c7dac7a8a550d1d85ea727ea36 = L.control.layers(\n",
       "                layer_control_262e24c7dac7a8a550d1d85ea727ea36_layers.base_layers,\n",
       "                layer_control_262e24c7dac7a8a550d1d85ea727ea36_layers.overlays,\n",
       "                {&quot;autoZIndex&quot;: true, &quot;collapsed&quot;: true, &quot;position&quot;: &quot;topright&quot;}\n",
       "            ).addTo(map_3635e5ed817ec0f9fa6388fd898fb2e5);\n",
       "\n",
       "        \n",
       "    \n",
       "            L.control.fullscreen(\n",
       "                {&quot;forceSeparateButton&quot;: false, &quot;position&quot;: &quot;topleft&quot;, &quot;title&quot;: &quot;Full Screen&quot;, &quot;titleCancel&quot;: &quot;Exit Full Screen&quot;}\n",
       "            ).addTo(map_3635e5ed817ec0f9fa6388fd898fb2e5);\n",
       "        \n",
       "    \n",
       "                var lat_lng_popup_19fe3a847f9a77ded42b236014428544 = L.popup();\n",
       "                function latLngPop(e) {\n",
       "                    lat_lng_popup_19fe3a847f9a77ded42b236014428544\n",
       "                        .setLatLng(e.latlng)\n",
       "                        .setContent(&quot;Latitude: &quot; + e.latlng.lat.toFixed(4) +\n",
       "                                    &quot;&lt;br&gt;Longitude: &quot; + e.latlng.lng.toFixed(4))\n",
       "                        .openOn(map_3635e5ed817ec0f9fa6388fd898fb2e5);\n",
       "                    }\n",
       "                map_3635e5ed817ec0f9fa6388fd898fb2e5.on(&#x27;click&#x27;, latLngPop);\n",
       "            \n",
       "&lt;/script&gt;\n",
       "&lt;/html&gt;\" style=\"position:absolute;width:100%;height:100%;left:0;top:0;border:none !important;\" allowfullscreen webkitallowfullscreen mozallowfullscreen></iframe></div></div>"
      ],
      "text/plain": [
       "<folium.folium.Map at 0x1a31e9cbd10>"
      ]
     },
     "execution_count": 17,
     "metadata": {},
     "output_type": "execute_result"
    }
   ],
   "source": [
    "Map = folium.Map()\n",
    "Map.setOptions()\n",
    "\n",
    "Map.setCenter(lon,lat) # coordinates of poi\n",
    "# Map.centerObject(aImg) ## doesn't work with python\n",
    "# Map.addLayer(tx, {'color': '#FECA1E', 'fillColor': '#4c4cff'})\n",
    "Map.addLayer(aImg, {}, 'default color composite')\n",
    "\n",
    "\n",
    "Map.setControlVisibility()\n",
    "Map"
   ]
  },
  {
   "cell_type": "code",
   "execution_count": 4,
   "metadata": {},
   "outputs": [
    {
     "data": {
      "text/html": [
       "\n",
       "            <style>\n",
       "                .geemap-dark {\n",
       "                    --jp-widgets-color: white;\n",
       "                    --jp-widgets-label-color: white;\n",
       "                    --jp-ui-font-color1: white;\n",
       "                    --jp-layout-color2: #454545;\n",
       "                    background-color: #383838;\n",
       "                }\n",
       "\n",
       "                .geemap-dark .jupyter-button {\n",
       "                    --jp-layout-color3: #383838;\n",
       "                }\n",
       "\n",
       "                .geemap-colab {\n",
       "                    background-color: var(--colab-primary-surface-color, white);\n",
       "                }\n",
       "\n",
       "                .geemap-colab .jupyter-button {\n",
       "                    --jp-layout-color3: var(--colab-primary-surface-color, white);\n",
       "                }\n",
       "            </style>\n",
       "            "
      ],
      "text/plain": [
       "<IPython.core.display.HTML object>"
      ]
     },
     "metadata": {},
     "output_type": "display_data"
    },
    {
     "name": "stdout",
     "output_type": "stream",
     "text": [
      "7259\n"
     ]
    },
    {
     "data": {
      "text/plain": [
       "0        POINT (-94.60046 29.66084)\n",
       "1        POINT (-94.60381 29.66123)\n",
       "2        POINT (-94.57724 29.58803)\n",
       "3        POINT (-94.55632 29.67362)\n",
       "4        POINT (-93.96192 29.94025)\n",
       "                   ...             \n",
       "7254    POINT (-101.21855 36.47476)\n",
       "7255    POINT (-101.33197 36.34384)\n",
       "7256    POINT (-101.44024 36.27811)\n",
       "7257    POINT (-101.27388 36.38727)\n",
       "7258    POINT (-101.49564 35.93603)\n",
       "Name: centroids, Length: 7259, dtype: geometry"
      ]
     },
     "execution_count": 4,
     "metadata": {},
     "output_type": "execute_result"
    }
   ],
   "source": [
    "print(len(MercNGPipes))\n",
    "MercNGPipes.centroids\n"
   ]
  },
  {
   "cell_type": "code",
   "execution_count": 12,
   "metadata": {},
   "outputs": [
    {
     "data": {
      "text/html": [
       "\n",
       "            <style>\n",
       "                .geemap-dark {\n",
       "                    --jp-widgets-color: white;\n",
       "                    --jp-widgets-label-color: white;\n",
       "                    --jp-ui-font-color1: white;\n",
       "                    --jp-layout-color2: #454545;\n",
       "                    background-color: #383838;\n",
       "                }\n",
       "\n",
       "                .geemap-dark .jupyter-button {\n",
       "                    --jp-layout-color3: #383838;\n",
       "                }\n",
       "\n",
       "                .geemap-colab {\n",
       "                    background-color: var(--colab-primary-surface-color, white);\n",
       "                }\n",
       "\n",
       "                .geemap-colab .jupyter-button {\n",
       "                    --jp-layout-color3: var(--colab-primary-surface-color, white);\n",
       "                }\n",
       "            </style>\n",
       "            "
      ],
      "text/plain": [
       "<IPython.core.display.HTML object>"
      ]
     },
     "metadata": {},
     "output_type": "display_data"
    },
    {
     "name": "stdout",
     "output_type": "stream",
     "text": [
      "32.188836019134584 -94.82044792461977\n",
      "<class 'shapely.geometry.multipoint.MultiPoint'>\n"
     ]
    }
   ],
   "source": [
    "# ngPipes.centroids\n",
    "i = 2500\n",
    "lat1 = MercNGPipes.centroids[i:i+1].squeeze().y\n",
    "lon1 = MercNGPipes.centroids[i:i+1].squeeze().x\n",
    "bbox = MercNGPipes.geometry[i:i+1].squeeze().boundary # attempt\n",
    "\n",
    "\n",
    "\n",
    "print(lat1,lon1)\n",
    "print(type(bbox))\n",
    "\n",
    "# print(ngPipes.beg[:1].squeeze())"
   ]
  },
  {
   "cell_type": "markdown",
   "metadata": {},
   "source": [
    "##### view satellite image"
   ]
  },
  {
   "cell_type": "code",
   "execution_count": 36,
   "metadata": {},
   "outputs": [
    {
     "data": {
      "text/html": [
       "\n",
       "            <style>\n",
       "                .geemap-dark {\n",
       "                    --jp-widgets-color: white;\n",
       "                    --jp-widgets-label-color: white;\n",
       "                    --jp-ui-font-color1: white;\n",
       "                    --jp-layout-color2: #454545;\n",
       "                    background-color: #383838;\n",
       "                }\n",
       "\n",
       "                .geemap-dark .jupyter-button {\n",
       "                    --jp-layout-color3: #383838;\n",
       "                }\n",
       "\n",
       "                .geemap-colab {\n",
       "                    background-color: var(--colab-primary-surface-color, white);\n",
       "                }\n",
       "\n",
       "                .geemap-colab .jupyter-button {\n",
       "                    --jp-layout-color3: var(--colab-primary-surface-color, white);\n",
       "                }\n",
       "            </style>\n",
       "            "
      ],
      "text/plain": [
       "<IPython.core.display.HTML object>"
      ]
     },
     "metadata": {},
     "output_type": "display_data"
    },
    {
     "data": {
      "text/html": [
       "<div style=\"width:100%;\"><div style=\"position:relative;width:100%;height:0;padding-bottom:60%;\"><span style=\"color:#565656\">Make this Notebook Trusted to load map: File -> Trust Notebook</span><iframe srcdoc=\"&lt;!DOCTYPE html&gt;\n",
       "&lt;html&gt;\n",
       "&lt;head&gt;\n",
       "    \n",
       "    &lt;meta http-equiv=&quot;content-type&quot; content=&quot;text/html; charset=UTF-8&quot; /&gt;\n",
       "    \n",
       "        &lt;script&gt;\n",
       "            L_NO_TOUCH = false;\n",
       "            L_DISABLE_3D = false;\n",
       "        &lt;/script&gt;\n",
       "    \n",
       "    &lt;style&gt;html, body {width: 100%;height: 100%;margin: 0;padding: 0;}&lt;/style&gt;\n",
       "    &lt;style&gt;#map {position:absolute;top:0;bottom:0;right:0;left:0;}&lt;/style&gt;\n",
       "    &lt;script src=&quot;https://cdn.jsdelivr.net/npm/leaflet@1.9.3/dist/leaflet.js&quot;&gt;&lt;/script&gt;\n",
       "    &lt;script src=&quot;https://code.jquery.com/jquery-3.7.1.min.js&quot;&gt;&lt;/script&gt;\n",
       "    &lt;script src=&quot;https://cdn.jsdelivr.net/npm/bootstrap@5.2.2/dist/js/bootstrap.bundle.min.js&quot;&gt;&lt;/script&gt;\n",
       "    &lt;script src=&quot;https://cdnjs.cloudflare.com/ajax/libs/Leaflet.awesome-markers/2.0.2/leaflet.awesome-markers.js&quot;&gt;&lt;/script&gt;\n",
       "    &lt;link rel=&quot;stylesheet&quot; href=&quot;https://cdn.jsdelivr.net/npm/leaflet@1.9.3/dist/leaflet.css&quot;/&gt;\n",
       "    &lt;link rel=&quot;stylesheet&quot; href=&quot;https://cdn.jsdelivr.net/npm/bootstrap@5.2.2/dist/css/bootstrap.min.css&quot;/&gt;\n",
       "    &lt;link rel=&quot;stylesheet&quot; href=&quot;https://netdna.bootstrapcdn.com/bootstrap/3.0.0/css/bootstrap.min.css&quot;/&gt;\n",
       "    &lt;link rel=&quot;stylesheet&quot; href=&quot;https://cdn.jsdelivr.net/npm/@fortawesome/fontawesome-free@6.2.0/css/all.min.css&quot;/&gt;\n",
       "    &lt;link rel=&quot;stylesheet&quot; href=&quot;https://cdnjs.cloudflare.com/ajax/libs/Leaflet.awesome-markers/2.0.2/leaflet.awesome-markers.css&quot;/&gt;\n",
       "    &lt;link rel=&quot;stylesheet&quot; href=&quot;https://cdn.jsdelivr.net/gh/python-visualization/folium/folium/templates/leaflet.awesome.rotate.min.css&quot;/&gt;\n",
       "    \n",
       "            &lt;meta name=&quot;viewport&quot; content=&quot;width=device-width,\n",
       "                initial-scale=1.0, maximum-scale=1.0, user-scalable=no&quot; /&gt;\n",
       "            &lt;style&gt;\n",
       "                #map_cdbddc6ea74ba2684b95eeef18f9f8f0 {\n",
       "                    position: relative;\n",
       "                    width: 100.0%;\n",
       "                    height: 100.0%;\n",
       "                    left: 0.0%;\n",
       "                    top: 0.0%;\n",
       "                }\n",
       "                .leaflet-container { font-size: 1rem; }\n",
       "            &lt;/style&gt;\n",
       "        \n",
       "    &lt;script src=&quot;https://cdn.jsdelivr.net/npm/leaflet.fullscreen@3.0.0/Control.FullScreen.min.js&quot;&gt;&lt;/script&gt;\n",
       "    &lt;link rel=&quot;stylesheet&quot; href=&quot;https://cdn.jsdelivr.net/npm/leaflet.fullscreen@3.0.0/Control.FullScreen.css&quot;/&gt;\n",
       "&lt;/head&gt;\n",
       "&lt;body&gt;\n",
       "    \n",
       "    \n",
       "            &lt;div class=&quot;folium-map&quot; id=&quot;map_cdbddc6ea74ba2684b95eeef18f9f8f0&quot; &gt;&lt;/div&gt;\n",
       "        \n",
       "&lt;/body&gt;\n",
       "&lt;script&gt;\n",
       "    \n",
       "    \n",
       "            var map_cdbddc6ea74ba2684b95eeef18f9f8f0 = L.map(\n",
       "                &quot;map_cdbddc6ea74ba2684b95eeef18f9f8f0&quot;,\n",
       "                {\n",
       "                    center: [0.0, 0.0],\n",
       "                    crs: L.CRS.EPSG3857,\n",
       "                    zoom: 1,\n",
       "                    zoomControl: true,\n",
       "                    preferCanvas: false,\n",
       "                }\n",
       "            );\n",
       "\n",
       "            \n",
       "\n",
       "        \n",
       "    \n",
       "            var tile_layer_00455dcb9e84d548e2178712f00ac55c = L.tileLayer(\n",
       "                &quot;https://tile.openstreetmap.org/{z}/{x}/{y}.png&quot;,\n",
       "                {&quot;attribution&quot;: &quot;\\u0026copy; \\u003ca href=\\&quot;https://www.openstreetmap.org/copyright\\&quot;\\u003eOpenStreetMap\\u003c/a\\u003e contributors&quot;, &quot;detectRetina&quot;: false, &quot;maxNativeZoom&quot;: 19, &quot;maxZoom&quot;: 19, &quot;minZoom&quot;: 0, &quot;noWrap&quot;: false, &quot;opacity&quot;: 1, &quot;subdomains&quot;: &quot;abc&quot;, &quot;tms&quot;: false}\n",
       "            );\n",
       "        \n",
       "    \n",
       "            tile_layer_00455dcb9e84d548e2178712f00ac55c.addTo(map_cdbddc6ea74ba2684b95eeef18f9f8f0);\n",
       "        \n",
       "    \n",
       "            var tile_layer_44c5d05bb251450aa57263e74fb91f9e = L.tileLayer(\n",
       "                &quot;https://mt1.google.com/vt/lyrs=y\\u0026x={x}\\u0026y={y}\\u0026z={z}&quot;,\n",
       "                {&quot;attribution&quot;: &quot;Google&quot;, &quot;detectRetina&quot;: false, &quot;maxNativeZoom&quot;: 18, &quot;maxZoom&quot;: 18, &quot;minZoom&quot;: 0, &quot;noWrap&quot;: false, &quot;opacity&quot;: 1, &quot;subdomains&quot;: &quot;abc&quot;, &quot;tms&quot;: false}\n",
       "            );\n",
       "        \n",
       "    \n",
       "            tile_layer_44c5d05bb251450aa57263e74fb91f9e.addTo(map_cdbddc6ea74ba2684b95eeef18f9f8f0);\n",
       "        \n",
       "    \n",
       "            map_cdbddc6ea74ba2684b95eeef18f9f8f0.fitBounds(\n",
       "                [[32.188836019134584, -94.82044792461977], [32.188836019134584, -94.82044792461977]],\n",
       "                {&quot;maxZoom&quot;: 10}\n",
       "            );\n",
       "        \n",
       "    \n",
       "            var tile_layer_c15cbc78563cb84962c3c8b1b1a96639 = L.tileLayer(\n",
       "                &quot;https://earthengine.googleapis.com/v1/projects/pipeline-elevation-project/maps/ead798ec4b56ac536989fc315fec6a45-b1c0ddc4a18f1541cef7c04ae20eacec/tiles/{z}/{x}/{y}&quot;,\n",
       "                {&quot;attribution&quot;: &quot;Google Earth Engine&quot;, &quot;detectRetina&quot;: false, &quot;maxNativeZoom&quot;: 18, &quot;maxZoom&quot;: 18, &quot;minZoom&quot;: 0, &quot;noWrap&quot;: false, &quot;opacity&quot;: 1, &quot;subdomains&quot;: &quot;abc&quot;, &quot;tms&quot;: false}\n",
       "            );\n",
       "        \n",
       "    \n",
       "            tile_layer_c15cbc78563cb84962c3c8b1b1a96639.addTo(map_cdbddc6ea74ba2684b95eeef18f9f8f0);\n",
       "        \n",
       "    \n",
       "            var layer_control_da56b53686a63795f48a627b987dbc48_layers = {\n",
       "                base_layers : {\n",
       "                    &quot;openstreetmap&quot; : tile_layer_00455dcb9e84d548e2178712f00ac55c,\n",
       "                },\n",
       "                overlays :  {\n",
       "                    &quot;Google Satellite&quot; : tile_layer_44c5d05bb251450aa57263e74fb91f9e,\n",
       "                    &quot;default color composite&quot; : tile_layer_c15cbc78563cb84962c3c8b1b1a96639,\n",
       "                },\n",
       "            };\n",
       "            let layer_control_da56b53686a63795f48a627b987dbc48 = L.control.layers(\n",
       "                layer_control_da56b53686a63795f48a627b987dbc48_layers.base_layers,\n",
       "                layer_control_da56b53686a63795f48a627b987dbc48_layers.overlays,\n",
       "                {&quot;autoZIndex&quot;: true, &quot;collapsed&quot;: true, &quot;position&quot;: &quot;topright&quot;}\n",
       "            ).addTo(map_cdbddc6ea74ba2684b95eeef18f9f8f0);\n",
       "\n",
       "        \n",
       "    \n",
       "            L.control.fullscreen(\n",
       "                {&quot;forceSeparateButton&quot;: false, &quot;position&quot;: &quot;topleft&quot;, &quot;title&quot;: &quot;Full Screen&quot;, &quot;titleCancel&quot;: &quot;Exit Full Screen&quot;}\n",
       "            ).addTo(map_cdbddc6ea74ba2684b95eeef18f9f8f0);\n",
       "        \n",
       "    \n",
       "                var lat_lng_popup_fdb61b09a878736ac13e5cca7501e2fd = L.popup();\n",
       "                function latLngPop(e) {\n",
       "                    lat_lng_popup_fdb61b09a878736ac13e5cca7501e2fd\n",
       "                        .setLatLng(e.latlng)\n",
       "                        .setContent(&quot;Latitude: &quot; + e.latlng.lat.toFixed(4) +\n",
       "                                    &quot;&lt;br&gt;Longitude: &quot; + e.latlng.lng.toFixed(4))\n",
       "                        .openOn(map_cdbddc6ea74ba2684b95eeef18f9f8f0);\n",
       "                    }\n",
       "                map_cdbddc6ea74ba2684b95eeef18f9f8f0.on(&#x27;click&#x27;, latLngPop);\n",
       "            \n",
       "&lt;/script&gt;\n",
       "&lt;/html&gt;\" style=\"position:absolute;width:100%;height:100%;left:0;top:0;border:none !important;\" allowfullscreen webkitallowfullscreen mozallowfullscreen></iframe></div></div>"
      ],
      "text/plain": [
       "<folium.folium.Map at 0x166471f7710>"
      ]
     },
     "execution_count": 36,
     "metadata": {},
     "output_type": "execute_result"
    }
   ],
   "source": [
    "Map = folium.Map()\n",
    "Map.setOptions()\n",
    "\n",
    "Map.setCenter(lon1,lat1) # coordinates of poi\n",
    "# Map.addLayer(tx, {'color': '#FECA1E', 'fillColor': '#4c4cff'})\n",
    "Map.addLayer(ee.Image(img), {}, 'default color composite')\n",
    "\n",
    "\n",
    "Map.setControlVisibility()\n",
    "Map\n"
   ]
  },
  {
   "cell_type": "markdown",
   "metadata": {},
   "source": [
    " ## Try [aerial photography](https://developers.google.com/earth-engine/datasets/tags/highres)"
   ]
  },
  {
   "cell_type": "code",
   "execution_count": 9,
   "metadata": {},
   "outputs": [
    {
     "data": {
      "text/html": [
       "\n",
       "            <style>\n",
       "                .geemap-dark {\n",
       "                    --jp-widgets-color: white;\n",
       "                    --jp-widgets-label-color: white;\n",
       "                    --jp-ui-font-color1: white;\n",
       "                    --jp-layout-color2: #454545;\n",
       "                    background-color: #383838;\n",
       "                }\n",
       "\n",
       "                .geemap-dark .jupyter-button {\n",
       "                    --jp-layout-color3: #383838;\n",
       "                }\n",
       "\n",
       "                .geemap-colab {\n",
       "                    background-color: var(--colab-primary-surface-color, white);\n",
       "                }\n",
       "\n",
       "                .geemap-colab .jupyter-button {\n",
       "                    --jp-layout-color3: var(--colab-primary-surface-color, white);\n",
       "                }\n",
       "            </style>\n",
       "            "
      ],
      "text/plain": [
       "<IPython.core.display.HTML object>"
      ]
     },
     "metadata": {},
     "output_type": "display_data"
    },
    {
     "data": {
      "text/html": [
       "<div><style>:root {\n",
       "  --font-color-primary: var(--jp-content-font-color0, rgba(0, 0, 0, 1));\n",
       "  --font-color-secondary: var(--jp-content-font-color2, rgba(0, 0, 0, 0.6));\n",
       "  --font-color-accent: rgba(123, 31, 162, 1);\n",
       "  --border-color: var(--jp-border-color2, #e0e0e0);\n",
       "  --background-color: var(--jp-layout-color0, white);\n",
       "  --background-color-row-even: var(--jp-layout-color1, white);\n",
       "  --background-color-row-odd: var(--jp-layout-color2, #eeeeee);\n",
       "}\n",
       "\n",
       "html[theme=\"dark\"],\n",
       "body[data-theme=\"dark\"],\n",
       "body.vscode-dark {\n",
       "  --font-color-primary: rgba(255, 255, 255, 1);\n",
       "  --font-color-secondary: rgba(255, 255, 255, 0.6);\n",
       "  --font-color-accent: rgb(173, 132, 190);\n",
       "  --border-color: #2e2e2e;\n",
       "  --background-color: #111111;\n",
       "  --background-color-row-even: #111111;\n",
       "  --background-color-row-odd: #313131;\n",
       "}\n",
       "\n",
       ".ee {\n",
       "  padding: 1em;\n",
       "  line-height: 1.5em;\n",
       "  min-width: 300px;\n",
       "  max-width: 1200px;\n",
       "  overflow-y: scroll;\n",
       "  max-height: 600px;\n",
       "  border: 1px solid var(--border-color);\n",
       "  font-family: monospace;\n",
       "}\n",
       "\n",
       ".ee li {\n",
       "  list-style-type: none;\n",
       "}\n",
       "\n",
       ".ee ul {\n",
       "  padding-left: 1.5em !important;\n",
       "  margin: 0;\n",
       "}\n",
       "\n",
       ".ee > ul {\n",
       "  padding-left: 0 !important;\n",
       "}\n",
       "\n",
       ".ee-open,\n",
       ".ee-shut {\n",
       "  color: var(--font-color-secondary);\n",
       "  cursor: pointer;\n",
       "  margin: 0;\n",
       "}\n",
       "\n",
       ".ee-open:hover,\n",
       ".ee-shut:hover {\n",
       "  color: var(--font-color-primary);\n",
       "}\n",
       "\n",
       ".ee-k {\n",
       "  color: var(--font-color-accent);\n",
       "  margin-right: 6px;\n",
       "}\n",
       "\n",
       ".ee-v {\n",
       "  color: var(--font-color-primary);\n",
       "}\n",
       "\n",
       ".ee-toggle {\n",
       "  display: none;\n",
       "}\n",
       "\n",
       ".ee-shut + ul {\n",
       "  display: none;\n",
       "}\n",
       "\n",
       ".ee-open + ul {\n",
       "  display: block;\n",
       "}\n",
       "\n",
       ".ee-shut::before {\n",
       "  display: inline-block;\n",
       "  content: \"▼\";\n",
       "  margin-right: 6px;\n",
       "  transform: rotate(-90deg);\n",
       "  transition: transform 0.2s;\n",
       "}\n",
       "\n",
       ".ee-open::before {\n",
       "  transform: rotate(0deg);\n",
       "  display: inline-block;\n",
       "  content: \"▼\";\n",
       "  margin-right: 6px;\n",
       "  transition: transform 0.2s;\n",
       "}\n",
       "</style><div class='ee'><ul><li><label class='ee-shut'>Image USDA/NAIP/DOQQ/m_2509706_ne_14_060_20220605 (4 bands)<input type='checkbox' class='ee-toggle'></label><ul><li><span class='ee-k'>type:</span><span class='ee-v'>Image</span></li><li><span class='ee-k'>id:</span><span class='ee-v'>USDA/NAIP/DOQQ/m_2509706_ne_14_060_20220605</span></li><li><span class='ee-k'>version:</span><span class='ee-v'>1691087641148407</span></li><li><label class='ee-shut'>bands: List (4 elements)<input type='checkbox' class='ee-toggle'></label><ul><li><label class='ee-shut'>0: \"R\", unsigned int8, EPSG:26914, 11497x12583 px<input type='checkbox' class='ee-toggle'></label><ul><li><span class='ee-k'>id:</span><span class='ee-v'>R</span></li><li><span class='ee-k'>crs:</span><span class='ee-v'>EPSG:26914</span></li><li><label class='ee-shut'>crs_transform: [0.6, 0, 668645.4, 0, -0.6, 2877156]<input type='checkbox' class='ee-toggle'></label><ul><li><span class='ee-k'>0:</span><span class='ee-v'>0.6</span></li><li><span class='ee-k'>1:</span><span class='ee-v'>0</span></li><li><span class='ee-k'>2:</span><span class='ee-v'>668645.4</span></li><li><span class='ee-k'>3:</span><span class='ee-v'>0</span></li><li><span class='ee-k'>4:</span><span class='ee-v'>-0.6</span></li><li><span class='ee-k'>5:</span><span class='ee-v'>2877156</span></li></ul></li><li><label class='ee-shut'>data_type: unsigned int8<input type='checkbox' class='ee-toggle'></label><ul><li><span class='ee-k'>type:</span><span class='ee-v'>PixelType</span></li><li><span class='ee-k'>max:</span><span class='ee-v'>255</span></li><li><span class='ee-k'>min:</span><span class='ee-v'>0</span></li><li><span class='ee-k'>precision:</span><span class='ee-v'>int</span></li></ul></li><li><label class='ee-shut'>dimensions: [11497, 12583]<input type='checkbox' class='ee-toggle'></label><ul><li><span class='ee-k'>0:</span><span class='ee-v'>11497</span></li><li><span class='ee-k'>1:</span><span class='ee-v'>12583</span></li></ul></li></ul></li><li><label class='ee-shut'>1: \"G\", unsigned int8, EPSG:26914, 11497x12583 px<input type='checkbox' class='ee-toggle'></label><ul><li><span class='ee-k'>id:</span><span class='ee-v'>G</span></li><li><span class='ee-k'>crs:</span><span class='ee-v'>EPSG:26914</span></li><li><label class='ee-shut'>crs_transform: [0.6, 0, 668645.4, 0, -0.6, 2877156]<input type='checkbox' class='ee-toggle'></label><ul><li><span class='ee-k'>0:</span><span class='ee-v'>0.6</span></li><li><span class='ee-k'>1:</span><span class='ee-v'>0</span></li><li><span class='ee-k'>2:</span><span class='ee-v'>668645.4</span></li><li><span class='ee-k'>3:</span><span class='ee-v'>0</span></li><li><span class='ee-k'>4:</span><span class='ee-v'>-0.6</span></li><li><span class='ee-k'>5:</span><span class='ee-v'>2877156</span></li></ul></li><li><label class='ee-shut'>data_type: unsigned int8<input type='checkbox' class='ee-toggle'></label><ul><li><span class='ee-k'>type:</span><span class='ee-v'>PixelType</span></li><li><span class='ee-k'>max:</span><span class='ee-v'>255</span></li><li><span class='ee-k'>min:</span><span class='ee-v'>0</span></li><li><span class='ee-k'>precision:</span><span class='ee-v'>int</span></li></ul></li><li><label class='ee-shut'>dimensions: [11497, 12583]<input type='checkbox' class='ee-toggle'></label><ul><li><span class='ee-k'>0:</span><span class='ee-v'>11497</span></li><li><span class='ee-k'>1:</span><span class='ee-v'>12583</span></li></ul></li></ul></li><li><label class='ee-shut'>2: \"B\", unsigned int8, EPSG:26914, 11497x12583 px<input type='checkbox' class='ee-toggle'></label><ul><li><span class='ee-k'>id:</span><span class='ee-v'>B</span></li><li><span class='ee-k'>crs:</span><span class='ee-v'>EPSG:26914</span></li><li><label class='ee-shut'>crs_transform: [0.6, 0, 668645.4, 0, -0.6, 2877156]<input type='checkbox' class='ee-toggle'></label><ul><li><span class='ee-k'>0:</span><span class='ee-v'>0.6</span></li><li><span class='ee-k'>1:</span><span class='ee-v'>0</span></li><li><span class='ee-k'>2:</span><span class='ee-v'>668645.4</span></li><li><span class='ee-k'>3:</span><span class='ee-v'>0</span></li><li><span class='ee-k'>4:</span><span class='ee-v'>-0.6</span></li><li><span class='ee-k'>5:</span><span class='ee-v'>2877156</span></li></ul></li><li><label class='ee-shut'>data_type: unsigned int8<input type='checkbox' class='ee-toggle'></label><ul><li><span class='ee-k'>type:</span><span class='ee-v'>PixelType</span></li><li><span class='ee-k'>max:</span><span class='ee-v'>255</span></li><li><span class='ee-k'>min:</span><span class='ee-v'>0</span></li><li><span class='ee-k'>precision:</span><span class='ee-v'>int</span></li></ul></li><li><label class='ee-shut'>dimensions: [11497, 12583]<input type='checkbox' class='ee-toggle'></label><ul><li><span class='ee-k'>0:</span><span class='ee-v'>11497</span></li><li><span class='ee-k'>1:</span><span class='ee-v'>12583</span></li></ul></li></ul></li><li><label class='ee-shut'>3: \"N\", unsigned int8, EPSG:26914, 11497x12583 px<input type='checkbox' class='ee-toggle'></label><ul><li><span class='ee-k'>id:</span><span class='ee-v'>N</span></li><li><span class='ee-k'>crs:</span><span class='ee-v'>EPSG:26914</span></li><li><label class='ee-shut'>crs_transform: [0.6, 0, 668645.4, 0, -0.6, 2877156]<input type='checkbox' class='ee-toggle'></label><ul><li><span class='ee-k'>0:</span><span class='ee-v'>0.6</span></li><li><span class='ee-k'>1:</span><span class='ee-v'>0</span></li><li><span class='ee-k'>2:</span><span class='ee-v'>668645.4</span></li><li><span class='ee-k'>3:</span><span class='ee-v'>0</span></li><li><span class='ee-k'>4:</span><span class='ee-v'>-0.6</span></li><li><span class='ee-k'>5:</span><span class='ee-v'>2877156</span></li></ul></li><li><label class='ee-shut'>data_type: unsigned int8<input type='checkbox' class='ee-toggle'></label><ul><li><span class='ee-k'>type:</span><span class='ee-v'>PixelType</span></li><li><span class='ee-k'>max:</span><span class='ee-v'>255</span></li><li><span class='ee-k'>min:</span><span class='ee-v'>0</span></li><li><span class='ee-k'>precision:</span><span class='ee-v'>int</span></li></ul></li><li><label class='ee-shut'>dimensions: [11497, 12583]<input type='checkbox' class='ee-toggle'></label><ul><li><span class='ee-k'>0:</span><span class='ee-v'>11497</span></li><li><span class='ee-k'>1:</span><span class='ee-v'>12583</span></li></ul></li></ul></li></ul></li><li><label class='ee-shut'>properties: Object (6 properties)<input type='checkbox' class='ee-toggle'></label><ul><li><span class='ee-k'>system:asset_size:</span><span class='ee-v'>517244479</span></li><li><label class='ee-shut'>system:footprint: LinearRing (19 vertices)<input type='checkbox' class='ee-toggle'></label><ul><li><span class='ee-k'>type:</span><span class='ee-v'>LinearRing</span></li><li><label class='ee-shut'>coordinates: List (19 elements)<input type='checkbox' class='ee-toggle'></label><ul><li><label class='ee-shut'>0: [-97.24708494527988, 25.934533752156824]<input type='checkbox' class='ee-toggle'></label><ul><li><span class='ee-k'>0:</span><span class='ee-v'>-97.24708494527988</span></li><li><span class='ee-k'>1:</span><span class='ee-v'>25.934533752156824</span></li></ul></li><li><label class='ee-shut'>1: [-97.24708486298569, 25.934534384317196]<input type='checkbox' class='ee-toggle'></label><ul><li><span class='ee-k'>0:</span><span class='ee-v'>-97.24708486298569</span></li><li><span class='ee-k'>1:</span><span class='ee-v'>25.934534384317196</span></li></ul></li><li><label class='ee-shut'>2: [-97.24607470940332, 26.002654631140615]<input type='checkbox' class='ee-toggle'></label><ul><li><span class='ee-k'>0:</span><span class='ee-v'>-97.24607470940332</span></li><li><span class='ee-k'>1:</span><span class='ee-v'>26.002654631140615</span></li></ul></li><li><label class='ee-shut'>3: [-97.24607709589904, 26.00265711280686]<input type='checkbox' class='ee-toggle'></label><ul><li><span class='ee-k'>0:</span><span class='ee-v'>-97.24607709589904</span></li><li><span class='ee-k'>1:</span><span class='ee-v'>26.00265711280686</span></li></ul></li><li><label class='ee-shut'>4: [-97.24607915322302, 26.00265988005728]<input type='checkbox' class='ee-toggle'></label><ul><li><span class='ee-k'>0:</span><span class='ee-v'>-97.24607915322302</span></li><li><span class='ee-k'>1:</span><span class='ee-v'>26.00265988005728</span></li></ul></li><li><label class='ee-shut'>5: [-97.24608014073856, 26.002660099675428]<input type='checkbox' class='ee-toggle'></label><ul><li><span class='ee-k'>0:</span><span class='ee-v'>-97.24608014073856</span></li><li><span class='ee-k'>1:</span><span class='ee-v'>26.002660099675428</span></li></ul></li><li><label class='ee-shut'>6: [-97.3149557408652, 26.003479221196642]<input type='checkbox' class='ee-toggle'></label><ul><li><span class='ee-k'>0:</span><span class='ee-v'>-97.3149557408652</span></li><li><span class='ee-k'>1:</span><span class='ee-v'>26.003479221196642</span></li></ul></li><li><label class='ee-shut'>7: [-97.3149585416748, 26.003477106396684]<input type='checkbox' class='ee-toggle'></label><ul><li><span class='ee-k'>0:</span><span class='ee-v'>-97.3149585416748</span></li><li><span class='ee-k'>1:</span><span class='ee-v'>26.003477106396684</span></li></ul></li><li><label class='ee-shut'>8: [-97.31496167199154, 26.003475243992217]<input type='checkbox' class='ee-toggle'></label><ul><li><span class='ee-k'>0:</span><span class='ee-v'>-97.31496167199154</span></li><li><span class='ee-k'>1:</span><span class='ee-v'>26.003475243992217</span></li></ul></li><li><label class='ee-shut'>9: [-97.3149617543683, 26.003474612012013]<input type='checkbox' class='ee-toggle'></label><ul><li><span class='ee-k'>0:</span><span class='ee-v'>-97.3149617543683</span></li><li><span class='ee-k'>1:</span><span class='ee-v'>26.003474612012013</span></li></ul></li><li><label class='ee-shut'>10: [-97.31496183674506, 26.003473890344182]<input type='checkbox' class='ee-toggle'></label><ul><li><span class='ee-k'>0:</span><span class='ee-v'>-97.31496183674506</span></li><li><span class='ee-k'>1:</span><span class='ee-v'>26.003473890344182</span></li></ul></li><li><label class='ee-shut'>11: [-97.31593240665154, 25.935351226880602]<input type='checkbox' class='ee-toggle'></label><ul><li><span class='ee-k'>0:</span><span class='ee-v'>-97.31593240665154</span></li><li><span class='ee-k'>1:</span><span class='ee-v'>25.935351226880602</span></li></ul></li><li><label class='ee-shut'>12: [-97.31593001769144, 25.935348745901674]<input type='checkbox' class='ee-toggle'></label><ul><li><span class='ee-k'>0:</span><span class='ee-v'>-97.31593001769144</span></li><li><span class='ee-k'>1:</span><span class='ee-v'>25.935348745901674</span></li></ul></li><li><label class='ee-shut'>13: [-97.31592795824314, 25.935345979151784]<input type='checkbox' class='ee-toggle'></label><ul><li><span class='ee-k'>0:</span><span class='ee-v'>-97.31592795824314</span></li><li><span class='ee-k'>1:</span><span class='ee-v'>25.935345979151784</span></li></ul></li><li><label class='ee-shut'>14: [-97.31592696970799, 25.935345759936038]<input type='checkbox' class='ee-toggle'></label><ul><li><span class='ee-k'>0:</span><span class='ee-v'>-97.31592696970799</span></li><li><span class='ee-k'>1:</span><span class='ee-v'>25.935345759936038</span></li></ul></li><li><label class='ee-shut'>15: [-97.2470909527558, 25.934529055387998]<input type='checkbox' class='ee-toggle'></label><ul><li><span class='ee-k'>0:</span><span class='ee-v'>-97.2470909527558</span></li><li><span class='ee-k'>1:</span><span class='ee-v'>25.934529055387998</span></li></ul></li><li><label class='ee-shut'>16: [-97.24708815475326, 25.934531258901842]<input type='checkbox' class='ee-toggle'></label><ul><li><span class='ee-k'>0:</span><span class='ee-v'>-97.24708815475326</span></li><li><span class='ee-k'>1:</span><span class='ee-v'>25.934531258901842</span></li></ul></li><li><label class='ee-shut'>17: [-97.24708510986827, 25.934533026159958]<input type='checkbox' class='ee-toggle'></label><ul><li><span class='ee-k'>0:</span><span class='ee-v'>-97.24708510986827</span></li><li><span class='ee-k'>1:</span><span class='ee-v'>25.934533026159958</span></li></ul></li><li><label class='ee-shut'>18: [-97.24708494527988, 25.934533752156824]<input type='checkbox' class='ee-toggle'></label><ul><li><span class='ee-k'>0:</span><span class='ee-v'>-97.24708494527988</span></li><li><span class='ee-k'>1:</span><span class='ee-v'>25.934533752156824</span></li></ul></li></ul></li></ul></li><li><span class='ee-k'>system:index:</span><span class='ee-v'>m_2509706_ne_14_060_20220605</span></li><li><span class='ee-k'>system:time_end:</span><span class='ee-v'>1654387200000</span></li><li><span class='ee-k'>system:time_start:</span><span class='ee-v'>1654387200000</span></li><li><span class='ee-k'>year:</span><span class='ee-v'>2022</span></li></ul></li></ul></li></ul></div><script>function toggleHeader() {\n",
       "    const parent = this.parentElement;\n",
       "    parent.className = parent.className === \"ee-open\" ? \"ee-shut\" : \"ee-open\";\n",
       "}\n",
       "\n",
       "for (let c of document.getElementsByClassName(\"ee-toggle\")) {\n",
       "    c.onclick = toggleHeader;\n",
       "}</script></div>"
      ],
      "text/plain": [
       "<ee.computedobject.ComputedObject at 0x1a31d071950>"
      ]
     },
     "metadata": {},
     "output_type": "display_data"
    }
   ],
   "source": [
    "aerColl = ee.ImageCollection(\"USDA/NAIP/DOQQ\")\n",
    "# i_date, f_date, & tx (bbox) defined above\n",
    "alst = aerColl.select('R','G','B','N').filterDate(i_date,f_date).filterBounds(tx)\n",
    "\n",
    "aimg = alst.toList(100).get(5)\n",
    "display(aimg)"
   ]
  },
  {
   "cell_type": "code",
   "execution_count": 39,
   "metadata": {},
   "outputs": [
    {
     "data": {
      "text/html": [
       "\n",
       "            <style>\n",
       "                .geemap-dark {\n",
       "                    --jp-widgets-color: white;\n",
       "                    --jp-widgets-label-color: white;\n",
       "                    --jp-ui-font-color1: white;\n",
       "                    --jp-layout-color2: #454545;\n",
       "                    background-color: #383838;\n",
       "                }\n",
       "\n",
       "                .geemap-dark .jupyter-button {\n",
       "                    --jp-layout-color3: #383838;\n",
       "                }\n",
       "\n",
       "                .geemap-colab {\n",
       "                    background-color: var(--colab-primary-surface-color, white);\n",
       "                }\n",
       "\n",
       "                .geemap-colab .jupyter-button {\n",
       "                    --jp-layout-color3: var(--colab-primary-surface-color, white);\n",
       "                }\n",
       "            </style>\n",
       "            "
      ],
      "text/plain": [
       "<IPython.core.display.HTML object>"
      ]
     },
     "metadata": {},
     "output_type": "display_data"
    },
    {
     "data": {
      "text/html": [
       "<div style=\"width:100%;\"><div style=\"position:relative;width:100%;height:0;padding-bottom:60%;\"><span style=\"color:#565656\">Make this Notebook Trusted to load map: File -> Trust Notebook</span><iframe srcdoc=\"&lt;!DOCTYPE html&gt;\n",
       "&lt;html&gt;\n",
       "&lt;head&gt;\n",
       "    \n",
       "    &lt;meta http-equiv=&quot;content-type&quot; content=&quot;text/html; charset=UTF-8&quot; /&gt;\n",
       "    \n",
       "        &lt;script&gt;\n",
       "            L_NO_TOUCH = false;\n",
       "            L_DISABLE_3D = false;\n",
       "        &lt;/script&gt;\n",
       "    \n",
       "    &lt;style&gt;html, body {width: 100%;height: 100%;margin: 0;padding: 0;}&lt;/style&gt;\n",
       "    &lt;style&gt;#map {position:absolute;top:0;bottom:0;right:0;left:0;}&lt;/style&gt;\n",
       "    &lt;script src=&quot;https://cdn.jsdelivr.net/npm/leaflet@1.9.3/dist/leaflet.js&quot;&gt;&lt;/script&gt;\n",
       "    &lt;script src=&quot;https://code.jquery.com/jquery-3.7.1.min.js&quot;&gt;&lt;/script&gt;\n",
       "    &lt;script src=&quot;https://cdn.jsdelivr.net/npm/bootstrap@5.2.2/dist/js/bootstrap.bundle.min.js&quot;&gt;&lt;/script&gt;\n",
       "    &lt;script src=&quot;https://cdnjs.cloudflare.com/ajax/libs/Leaflet.awesome-markers/2.0.2/leaflet.awesome-markers.js&quot;&gt;&lt;/script&gt;\n",
       "    &lt;link rel=&quot;stylesheet&quot; href=&quot;https://cdn.jsdelivr.net/npm/leaflet@1.9.3/dist/leaflet.css&quot;/&gt;\n",
       "    &lt;link rel=&quot;stylesheet&quot; href=&quot;https://cdn.jsdelivr.net/npm/bootstrap@5.2.2/dist/css/bootstrap.min.css&quot;/&gt;\n",
       "    &lt;link rel=&quot;stylesheet&quot; href=&quot;https://netdna.bootstrapcdn.com/bootstrap/3.0.0/css/bootstrap.min.css&quot;/&gt;\n",
       "    &lt;link rel=&quot;stylesheet&quot; href=&quot;https://cdn.jsdelivr.net/npm/@fortawesome/fontawesome-free@6.2.0/css/all.min.css&quot;/&gt;\n",
       "    &lt;link rel=&quot;stylesheet&quot; href=&quot;https://cdnjs.cloudflare.com/ajax/libs/Leaflet.awesome-markers/2.0.2/leaflet.awesome-markers.css&quot;/&gt;\n",
       "    &lt;link rel=&quot;stylesheet&quot; href=&quot;https://cdn.jsdelivr.net/gh/python-visualization/folium/folium/templates/leaflet.awesome.rotate.min.css&quot;/&gt;\n",
       "    \n",
       "            &lt;meta name=&quot;viewport&quot; content=&quot;width=device-width,\n",
       "                initial-scale=1.0, maximum-scale=1.0, user-scalable=no&quot; /&gt;\n",
       "            &lt;style&gt;\n",
       "                #map_aae083a9e0f6fcffba1eefb3938a3051 {\n",
       "                    position: relative;\n",
       "                    width: 100.0%;\n",
       "                    height: 100.0%;\n",
       "                    left: 0.0%;\n",
       "                    top: 0.0%;\n",
       "                }\n",
       "                .leaflet-container { font-size: 1rem; }\n",
       "            &lt;/style&gt;\n",
       "        \n",
       "    &lt;script src=&quot;https://cdn.jsdelivr.net/npm/leaflet.fullscreen@3.0.0/Control.FullScreen.min.js&quot;&gt;&lt;/script&gt;\n",
       "    &lt;link rel=&quot;stylesheet&quot; href=&quot;https://cdn.jsdelivr.net/npm/leaflet.fullscreen@3.0.0/Control.FullScreen.css&quot;/&gt;\n",
       "&lt;/head&gt;\n",
       "&lt;body&gt;\n",
       "    \n",
       "    \n",
       "            &lt;div class=&quot;folium-map&quot; id=&quot;map_aae083a9e0f6fcffba1eefb3938a3051&quot; &gt;&lt;/div&gt;\n",
       "        \n",
       "&lt;/body&gt;\n",
       "&lt;script&gt;\n",
       "    \n",
       "    \n",
       "            var map_aae083a9e0f6fcffba1eefb3938a3051 = L.map(\n",
       "                &quot;map_aae083a9e0f6fcffba1eefb3938a3051&quot;,\n",
       "                {\n",
       "                    center: [0.0, 0.0],\n",
       "                    crs: L.CRS.EPSG3857,\n",
       "                    zoom: 1,\n",
       "                    zoomControl: true,\n",
       "                    preferCanvas: false,\n",
       "                }\n",
       "            );\n",
       "\n",
       "            \n",
       "\n",
       "        \n",
       "    \n",
       "            var tile_layer_2529383759141d0a8de36e247a598c3f = L.tileLayer(\n",
       "                &quot;https://tile.openstreetmap.org/{z}/{x}/{y}.png&quot;,\n",
       "                {&quot;attribution&quot;: &quot;\\u0026copy; \\u003ca href=\\&quot;https://www.openstreetmap.org/copyright\\&quot;\\u003eOpenStreetMap\\u003c/a\\u003e contributors&quot;, &quot;detectRetina&quot;: false, &quot;maxNativeZoom&quot;: 19, &quot;maxZoom&quot;: 19, &quot;minZoom&quot;: 0, &quot;noWrap&quot;: false, &quot;opacity&quot;: 1, &quot;subdomains&quot;: &quot;abc&quot;, &quot;tms&quot;: false}\n",
       "            );\n",
       "        \n",
       "    \n",
       "            tile_layer_2529383759141d0a8de36e247a598c3f.addTo(map_aae083a9e0f6fcffba1eefb3938a3051);\n",
       "        \n",
       "    \n",
       "            var tile_layer_c403c3cfb9eaada40d6ad2035d9cd56d = L.tileLayer(\n",
       "                &quot;https://mt1.google.com/vt/lyrs=y\\u0026x={x}\\u0026y={y}\\u0026z={z}&quot;,\n",
       "                {&quot;attribution&quot;: &quot;Google&quot;, &quot;detectRetina&quot;: false, &quot;maxNativeZoom&quot;: 18, &quot;maxZoom&quot;: 18, &quot;minZoom&quot;: 0, &quot;noWrap&quot;: false, &quot;opacity&quot;: 1, &quot;subdomains&quot;: &quot;abc&quot;, &quot;tms&quot;: false}\n",
       "            );\n",
       "        \n",
       "    \n",
       "            tile_layer_c403c3cfb9eaada40d6ad2035d9cd56d.addTo(map_aae083a9e0f6fcffba1eefb3938a3051);\n",
       "        \n",
       "    \n",
       "            map_aae083a9e0f6fcffba1eefb3938a3051.fitBounds(\n",
       "                [[0, 0], [0, 0]],\n",
       "                {&quot;maxZoom&quot;: 32.188836019134584}\n",
       "            );\n",
       "        \n",
       "    \n",
       "            var tile_layer_ff01b8f7940231e272b2a1749b0285ff = L.tileLayer(\n",
       "                &quot;https://earthengine.googleapis.com/v1/projects/pipeline-elevation-project/maps/99cc0d2f03b764b527d0676552bdc962-19c57aba97ec62c5caf064135ea86ecd/tiles/{z}/{x}/{y}&quot;,\n",
       "                {&quot;attribution&quot;: &quot;Google Earth Engine&quot;, &quot;detectRetina&quot;: false, &quot;maxNativeZoom&quot;: 18, &quot;maxZoom&quot;: 18, &quot;minZoom&quot;: 0, &quot;noWrap&quot;: false, &quot;opacity&quot;: 1, &quot;subdomains&quot;: &quot;abc&quot;, &quot;tms&quot;: false}\n",
       "            );\n",
       "        \n",
       "    \n",
       "            tile_layer_ff01b8f7940231e272b2a1749b0285ff.addTo(map_aae083a9e0f6fcffba1eefb3938a3051);\n",
       "        \n",
       "    \n",
       "            var layer_control_5c88d0ea46f5801bd2ed1e45b7a2f9c1_layers = {\n",
       "                base_layers : {\n",
       "                    &quot;openstreetmap&quot; : tile_layer_2529383759141d0a8de36e247a598c3f,\n",
       "                },\n",
       "                overlays :  {\n",
       "                    &quot;Google Satellite&quot; : tile_layer_c403c3cfb9eaada40d6ad2035d9cd56d,\n",
       "                    &quot;default color composite&quot; : tile_layer_ff01b8f7940231e272b2a1749b0285ff,\n",
       "                },\n",
       "            };\n",
       "            let layer_control_5c88d0ea46f5801bd2ed1e45b7a2f9c1 = L.control.layers(\n",
       "                layer_control_5c88d0ea46f5801bd2ed1e45b7a2f9c1_layers.base_layers,\n",
       "                layer_control_5c88d0ea46f5801bd2ed1e45b7a2f9c1_layers.overlays,\n",
       "                {&quot;autoZIndex&quot;: true, &quot;collapsed&quot;: true, &quot;position&quot;: &quot;topright&quot;}\n",
       "            ).addTo(map_aae083a9e0f6fcffba1eefb3938a3051);\n",
       "\n",
       "        \n",
       "    \n",
       "            L.control.fullscreen(\n",
       "                {&quot;forceSeparateButton&quot;: false, &quot;position&quot;: &quot;topleft&quot;, &quot;title&quot;: &quot;Full Screen&quot;, &quot;titleCancel&quot;: &quot;Exit Full Screen&quot;}\n",
       "            ).addTo(map_aae083a9e0f6fcffba1eefb3938a3051);\n",
       "        \n",
       "    \n",
       "                var lat_lng_popup_0e0cf7d29a29c52505c05165612c7fb6 = L.popup();\n",
       "                function latLngPop(e) {\n",
       "                    lat_lng_popup_0e0cf7d29a29c52505c05165612c7fb6\n",
       "                        .setLatLng(e.latlng)\n",
       "                        .setContent(&quot;Latitude: &quot; + e.latlng.lat.toFixed(4) +\n",
       "                                    &quot;&lt;br&gt;Longitude: &quot; + e.latlng.lng.toFixed(4))\n",
       "                        .openOn(map_aae083a9e0f6fcffba1eefb3938a3051);\n",
       "                    }\n",
       "                map_aae083a9e0f6fcffba1eefb3938a3051.on(&#x27;click&#x27;, latLngPop);\n",
       "            \n",
       "&lt;/script&gt;\n",
       "&lt;/html&gt;\" style=\"position:absolute;width:100%;height:100%;left:0;top:0;border:none !important;\" allowfullscreen webkitallowfullscreen mozallowfullscreen></iframe></div></div>"
      ],
      "text/plain": [
       "<folium.folium.Map at 0x1664723c210>"
      ]
     },
     "execution_count": 39,
     "metadata": {},
     "output_type": "execute_result"
    }
   ],
   "source": [
    "Map = folium.Map()\n",
    "Map.setOptions()\n",
    "\n",
    "Map.centerObject(lon1, lat1) # coordinates of poi\n",
    "# Map.addLayer(tx, {'color': '#FECA1E', 'fillColor': '#4c4cff'})\n",
    "Map.addLayer(ee.Image(aimg), {}, 'default color composite')\n",
    "\n",
    "Map.setControlVisibility()\n",
    "Map"
   ]
  },
  {
   "cell_type": "markdown",
   "metadata": {},
   "source": [
    "still not seeing it"
   ]
  },
  {
   "cell_type": "markdown",
   "metadata": {},
   "source": [
    "## Export an image"
   ]
  },
  {
   "cell_type": "markdown",
   "metadata": {},
   "source": [
    "[documentation on exporting image function](https://developers.google.com/earth-engine/apidocs/export-image-tocloudstorage) (with links to drive, etc.)"
   ]
  },
  {
   "cell_type": "code",
   "execution_count": 34,
   "metadata": {},
   "outputs": [
    {
     "data": {
      "text/html": [
       "\n",
       "            <style>\n",
       "                .geemap-dark {\n",
       "                    --jp-widgets-color: white;\n",
       "                    --jp-widgets-label-color: white;\n",
       "                    --jp-ui-font-color1: white;\n",
       "                    --jp-layout-color2: #454545;\n",
       "                    background-color: #383838;\n",
       "                }\n",
       "\n",
       "                .geemap-dark .jupyter-button {\n",
       "                    --jp-layout-color3: #383838;\n",
       "                }\n",
       "\n",
       "                .geemap-colab {\n",
       "                    background-color: var(--colab-primary-surface-color, white);\n",
       "                }\n",
       "\n",
       "                .geemap-colab .jupyter-button {\n",
       "                    --jp-layout-color3: var(--colab-primary-surface-color, white);\n",
       "                }\n",
       "            </style>\n",
       "            "
      ],
      "text/plain": [
       "<IPython.core.display.HTML object>"
      ]
     },
     "metadata": {},
     "output_type": "display_data"
    },
    {
     "data": {
      "text/html": [
       "<p>To authorize access needed by Earth Engine, open the following\n",
       "        URL in a web browser and follow the instructions:</p>\n",
       "        <p><a href=https://code.earthengine.google.com/client-auth?scopes=https%3A//www.googleapis.com/auth/earthengine%20https%3A//www.googleapis.com/auth/cloud-platform%20https%3A//www.googleapis.com/auth/devstorage.full_control&request_id=5h4PZNnfnNmn16RUDlW9rXDtxLBmId6WrAst79v_EGM&tc=DvlvmwDXafEXU6NwoNi63ptciHw_Y7JZEO1-isZSMH8&cc=pnTM0DvARDyqXukQERKBKWhNVuqy6R4YcQ5NYMKRAN4>https://code.earthengine.google.com/client-auth?scopes=https%3A//www.googleapis.com/auth/earthengine%20https%3A//www.googleapis.com/auth/cloud-platform%20https%3A//www.googleapis.com/auth/devstorage.full_control&request_id=5h4PZNnfnNmn16RUDlW9rXDtxLBmId6WrAst79v_EGM&tc=DvlvmwDXafEXU6NwoNi63ptciHw_Y7JZEO1-isZSMH8&cc=pnTM0DvARDyqXukQERKBKWhNVuqy6R4YcQ5NYMKRAN4</a></p>\n",
       "        <p>The authorization workflow will generate a code, which you should paste in the box below.</p>\n",
       "        "
      ],
      "text/plain": [
       "<IPython.core.display.HTML object>"
      ]
     },
     "metadata": {},
     "output_type": "display_data"
    },
    {
     "name": "stdout",
     "output_type": "stream",
     "text": [
      "\n",
      "Successfully saved authorization token.\n"
     ]
    }
   ],
   "source": [
    "ee.Authenticate()\n",
    "ee.Initialize(project=\"pipeline-elevation-project\")"
   ]
  },
  {
   "cell_type": "code",
   "execution_count": 37,
   "metadata": {},
   "outputs": [
    {
     "data": {
      "text/html": [
       "\n",
       "            <style>\n",
       "                .geemap-dark {\n",
       "                    --jp-widgets-color: white;\n",
       "                    --jp-widgets-label-color: white;\n",
       "                    --jp-ui-font-color1: white;\n",
       "                    --jp-layout-color2: #454545;\n",
       "                    background-color: #383838;\n",
       "                }\n",
       "\n",
       "                .geemap-dark .jupyter-button {\n",
       "                    --jp-layout-color3: #383838;\n",
       "                }\n",
       "\n",
       "                .geemap-colab {\n",
       "                    background-color: var(--colab-primary-surface-color, white);\n",
       "                }\n",
       "\n",
       "                .geemap-colab .jupyter-button {\n",
       "                    --jp-layout-color3: var(--colab-primary-surface-color, white);\n",
       "                }\n",
       "            </style>\n",
       "            "
      ],
      "text/plain": [
       "<IPython.core.display.HTML object>"
      ]
     },
     "metadata": {},
     "output_type": "display_data"
    }
   ],
   "source": [
    "task = ee.batch.Export.image.toCloudStorage(ee.Image(aimg),\n",
    "                            description=\"testUSDAExport\",  # optional\n",
    "                            # ^ put desired name for the task & file in cloud storage\n",
    "                            bucket = \"test_export_bucket0\",\n",
    "                            maxPixels=1500000000  \n",
    "                            )\n",
    "\n",
    "# optional\n",
    "# ^ for actual storages, use 'gee_image_exports'\n",
    "'''\n",
    "# other useful options\n",
    "fileNamePrefix = \"landsat9/\",  # optional, put path if necessary here\n",
    "dimensions = \"1920x1080\",  # optional, \"WIDTHxHEIGHT\"; unsure if this is useful\n",
    "region = ee.Geometry.BBox(-122.24, 37.13, -122.11, 37.20),  # optional, current example is unknown region\n",
    "scale = 1000,  # resolution in meters per pixel\n",
    "# maxPixels, crs, and crsTransform (dependent on crs) might be useful\n",
    "'''\n",
    "\n",
    "task.start()"
   ]
  },
  {
   "cell_type": "markdown",
   "metadata": {},
   "source": [
    "This runs quickly, but the actual task takes a long time to finish.<br><br>Clipping the export with `region` would be helpful. *--beginnings to this idea can be found with bbox above & [this link](https://gis.stackexchange.com/questions/439924/convert-local-file-shp-csv-into-earth-engine-ee-object)--*"
   ]
  }
 ],
 "metadata": {
  "kernelspec": {
   "display_name": "musa-550-fall-2023",
   "language": "python",
   "name": "python3"
  },
  "language_info": {
   "codemirror_mode": {
    "name": "ipython",
    "version": 3
   },
   "file_extension": ".py",
   "mimetype": "text/x-python",
   "name": "python",
   "nbconvert_exporter": "python",
   "pygments_lexer": "ipython3",
   "version": "3.11.0"
  }
 },
 "nbformat": 4,
 "nbformat_minor": 2
}
