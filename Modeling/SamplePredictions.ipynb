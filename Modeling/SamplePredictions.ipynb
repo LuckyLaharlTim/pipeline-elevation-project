{
 "cells": [
  {
   "cell_type": "code",
   "execution_count": 19,
   "metadata": {},
   "outputs": [
    {
     "data": {
      "text/html": [
       "\n",
       "            <style>\n",
       "                .geemap-dark {\n",
       "                    --jp-widgets-color: white;\n",
       "                    --jp-widgets-label-color: white;\n",
       "                    --jp-ui-font-color1: white;\n",
       "                    --jp-layout-color2: #454545;\n",
       "                    background-color: #383838;\n",
       "                }\n",
       "\n",
       "                .geemap-dark .jupyter-button {\n",
       "                    --jp-layout-color3: #383838;\n",
       "                }\n",
       "\n",
       "                .geemap-colab {\n",
       "                    background-color: var(--colab-primary-surface-color, white);\n",
       "                }\n",
       "\n",
       "                .geemap-colab .jupyter-button {\n",
       "                    --jp-layout-color3: var(--colab-primary-surface-color, white);\n",
       "                }\n",
       "            </style>\n",
       "            "
      ],
      "text/plain": [
       "<IPython.core.display.HTML object>"
      ]
     },
     "metadata": {},
     "output_type": "display_data"
    }
   ],
   "source": [
    "import numpy as np # linear algebra\n",
    "import pandas as pd # data processing, CSV file I/O (e.g. pd.read_csv)\n",
    "import geopandas as gpd\n",
    "import matplotlib.pyplot as plt\n",
    "import ee\n",
    "import folium\n",
    "import geemap.core as geemap\n",
    "import geehydro\n",
    "import math\n",
    "import requests\n",
    "import os\n",
    "import skimage\n",
    "import rasterio as rs\n",
    "import time\n",
    "import torch\n",
    "import cv2\n",
    "import PIL\n",
    "from PIL import Image\n",
    "from joblib import dump, load\n",
    "from google.cloud import storage\n",
    "from sklearn.model_selection import train_test_split\n",
    "from sklearn.preprocessing import MinMaxScaler\n",
    "from sklearn.svm import LinearSVC\n",
    "from sklearn import svm, metrics, ensemble\n",
    "from keras.models import Sequential, Model, clone_model, save_model, load_model\n",
    "from tensorflow.keras.layers import Conv2D, MaxPooling2D, Dense, Activation, Dropout, Flatten, MaxPool2D\n",
    "from tensorflow.keras.layers import BatchNormalization\n",
    "from tensorflow.keras.utils import plot_model\n",
    "from tensorflow.keras.optimizers import Adam\n",
    "from keras.callbacks import LearningRateScheduler\n",
    "from keras.regularizers import l2, l1\n",
    "from torchvision.models.segmentation import deeplabv3_resnet50, deeplabv3_resnet101\n",
    "from torchvision.models.segmentation import (\n",
    "                                             DeepLabV3_ResNet50_Weights, \n",
    "                                             DeepLabV3_ResNet101_Weights, \n",
    "                                            )\n",
    "\n",
    "\n"
   ]
  },
  {
   "cell_type": "code",
   "execution_count": 10,
   "metadata": {},
   "outputs": [
    {
     "data": {
      "text/html": [
       "\n",
       "            <style>\n",
       "                .geemap-dark {\n",
       "                    --jp-widgets-color: white;\n",
       "                    --jp-widgets-label-color: white;\n",
       "                    --jp-ui-font-color1: white;\n",
       "                    --jp-layout-color2: #454545;\n",
       "                    background-color: #383838;\n",
       "                }\n",
       "\n",
       "                .geemap-dark .jupyter-button {\n",
       "                    --jp-layout-color3: #383838;\n",
       "                }\n",
       "\n",
       "                .geemap-colab {\n",
       "                    background-color: var(--colab-primary-surface-color, white);\n",
       "                }\n",
       "\n",
       "                .geemap-colab .jupyter-button {\n",
       "                    --jp-layout-color3: var(--colab-primary-surface-color, white);\n",
       "                }\n",
       "            </style>\n",
       "            "
      ],
      "text/plain": [
       "<IPython.core.display.HTML object>"
      ]
     },
     "metadata": {},
     "output_type": "display_data"
    }
   ],
   "source": [
    "# ensure directories are made if they do not exist\n",
    "def checkdirs(path):\n",
    "    if not(os.path.exists(path)):\n",
    "        os.makedirs(path)\n",
    "\n",
    "## crop images to middle 256x256 pixels\n",
    "def crop(img):\n",
    "    height, width = img.shape[0:2]\n",
    "    new = 256\n",
    "\n",
    "    left = int((width - new)/2)\n",
    "    top = int((height - new)/2)\n",
    "    right = int((width + new)/2)\n",
    "    bottom = int((height + new)/2)\n",
    "\n",
    "    # print(left,top,right,bottom)\n",
    "    crop = img[top:bottom,left:right,:]\n",
    "    # print(crop.shape)\n",
    "    return crop\n",
    "\n",
    "## get labels from completed csv file\n",
    "def get_Labels(csvF=\"400labels.csv\"):\n",
    "    l = pd.read_csv(csvF)\n",
    "\n",
    "    found = l.loc[l.Index==1002].Label.squeeze()\n",
    "    missing = l.loc[l.Index==1003].Label.squeeze()\n",
    "   \n",
    "\n",
    "    # print(type(found))\n",
    "    # print(type(missing))\n",
    "\n",
    "    labelDF = pd.DataFrame(np.nan,index=list(range(2240)),columns=list(l.columns))\n",
    "\n",
    "    labelDF.Index = labelDF.index+1\n",
    "    labelDF.tail()\n",
    "    for val in list(l.Index.squeeze()):\n",
    "        label2Add = int(l.loc[l.Index==val].Label.squeeze())\n",
    "        # print(label2Add)\n",
    "        labelDF.loc[labelDF.Index==val,\"Label\"]=label2Add\n",
    "    labelDF.loc[labelDF.Index==1001]\n",
    "\n",
    "    # np.array(labelDF)\n",
    "    return labelDF\n",
    "\n",
    "def get_sets(csv=\"400labels.csv\"):\n",
    "    labelDF = get_Labels(csv)\n",
    "    imgList = []\n",
    "    y_list = []\n",
    "\n",
    "    labelDF.tail()\n",
    "    for i in list(labelDF.dropna().Index.squeeze()):\n",
    "        y_list.append(int(labelDF.loc[labelDF[\"Index\"]==i].Label.squeeze()))\n",
    "        imgList.append(getImage(i)[0])\n",
    "    return imgList, y_list\n",
    "\n",
    "## get picture name (in GCS name scheme)\n",
    "def getImageName(i):\n",
    "    fname = f\"pipeline{i}.tif\"\n",
    "    raw_filename = './images/'+fname\n",
    "\n",
    "    return raw_filename\n",
    "\n",
    "# set up reference to GCS\n",
    "def getImage(p,sections):\n",
    "    fname = f\"enhanced_pipeline_{p}_{sections}.tif\"\n",
    "    raw_filename = './images/'+fname\n",
    "    BUCKET_NAME = 'gee_image_exports' # change to 'gee_image_exports'\n",
    "    # put service account key after from_service_account_json() if necessary\n",
    "    storage_client = storage.Client.from_service_account_json(r\"C:\\Users\\toliv\\Downloads\\pipeline-elevation-project-ee201daa0dab.json\")\n",
    "    raw_blobname = \"USDA_aerials/\"+fname # change to f'USDA_aerials/{raw_filename}'\n",
    "    checkdirs(\"./images\")\n",
    "\n",
    "    ## actually grab from cloud storage bucket\n",
    "    blob = storage_client.bucket(\n",
    "    BUCKET_NAME).blob(raw_blobname)\n",
    "    # blob = storage.Client(project=\"pipeline-elevation-project\").bucket(\n",
    "    # BUCKET_NAME).blob(raw_blobname)\n",
    "    start = time.time()\n",
    "    blob.download_to_filename(raw_filename)\n",
    "    end = time.time()\n",
    "    print(f\"Time taken for download:\\n\\t{end-start} seconds.\")\n",
    "\n",
    "    raster = rs.open(raw_filename)\n",
    "    array = raster.read()\n",
    "    # rgb image\n",
    "    dPic = np.dstack((array[0],array[1],array[2]))\n",
    "\n",
    "    #ndvi image (channel 1: R band; channel 2: NIR band; channel 3: NDVI)\n",
    "    \n",
    "    return crop(dPic)\n",
    "\n",
    "# label CSV \n",
    "def labelCSV(labelDict, fname=\"labels.csv\"):\n",
    "    # save labels to csv\n",
    "    import csv\n",
    "    with open(fname,'w',newline='\\n') as f:\n",
    "        wr = csv.writer(f, quoting=csv.QUOTE_ALL)\n",
    "        wr.writerow([\"Index\",\"Label\"])\n",
    "        for val in labelDict.keys():\n",
    "            wr.writerow([val,labelDict[val]])\n",
    "\n",
    "    print(\"done\")\n",
    "\n",
    "def prep_modelData(csv=\"400labels.csv\"):\n",
    "    x, y = get_sets(csv=\"400labels.csv\")\n",
    "    standard_x = [p for _,p in enumerate(x) if p.shape==(256,256,3)]\n",
    "    standard_y = [p for i,p in enumerate(y_train) if x[i].shape==(256,256,3)]\n",
    "    standard_x = np.stack(standard_x,axis=0)\n",
    "    standard_y = np.array(standard_y)\n",
    "\n",
    "    x_train, x_split, y_train, y_split = train_test_split(x,y,random_state=42,train_size=0.7)\n",
    "    print(len(x_split), len(y_split))\n",
    "    x_test, x_val, y_test, y_val = train_test_split(x_split, y_split, random_state=42, train_size=0.66)\n",
    "\n",
    "    return x_train, y_train, x_val, y_val, x_test, y_test\n"
   ]
  },
  {
   "cell_type": "code",
   "execution_count": 5,
   "metadata": {},
   "outputs": [
    {
     "data": {
      "text/html": [
       "\n",
       "            <style>\n",
       "                .geemap-dark {\n",
       "                    --jp-widgets-color: white;\n",
       "                    --jp-widgets-label-color: white;\n",
       "                    --jp-ui-font-color1: white;\n",
       "                    --jp-layout-color2: #454545;\n",
       "                    background-color: #383838;\n",
       "                }\n",
       "\n",
       "                .geemap-dark .jupyter-button {\n",
       "                    --jp-layout-color3: #383838;\n",
       "                }\n",
       "\n",
       "                .geemap-colab {\n",
       "                    background-color: var(--colab-primary-surface-color, white);\n",
       "                }\n",
       "\n",
       "                .geemap-colab .jupyter-button {\n",
       "                    --jp-layout-color3: var(--colab-primary-surface-color, white);\n",
       "                }\n",
       "            </style>\n",
       "            "
      ],
      "text/plain": [
       "<IPython.core.display.HTML object>"
      ]
     },
     "metadata": {},
     "output_type": "display_data"
    },
    {
     "name": "stdout",
     "output_type": "stream",
     "text": [
      "Time taken for download:\n",
      "\t8.04896330833435 seconds.\n"
     ]
    }
   ],
   "source": [
    "fname = f\"pipeline_segments.geojson\"\n",
    "raw_filename = './data/'+fname\n",
    "BUCKET_NAME = 'pipeline_data_bucket' # change to 'gee_image_exports'\n",
    "# put service account key after from_service_account_json() if necessary\n",
    "storage_client = storage.Client.from_service_account_json(r\"C:\\Users\\toliv\\Downloads\\pipeline-elevation-project-ee201daa0dab.json\")\n",
    "raw_blobname = \"raw/\"+fname # change to f'USDA_aerials/{raw_filename}'\n",
    "checkdirs(\"./data\")\n",
    "\n",
    "## actually grab from cloud storage bucket\n",
    "blob = storage_client.bucket(\n",
    "BUCKET_NAME).blob(raw_blobname)\n",
    "# blob = storage.Client(project=\"pipeline-elevation-project\").bucket(\n",
    "# BUCKET_NAME).blob(raw_blobname)\n",
    "start = time.time()\n",
    "blob.download_to_filename(raw_filename)\n",
    "end = time.time()\n",
    "print(f\"Time taken for download:\\n\\t{end-start} seconds.\")"
   ]
  },
  {
   "cell_type": "code",
   "execution_count": 6,
   "metadata": {},
   "outputs": [
    {
     "data": {
      "text/html": [
       "\n",
       "            <style>\n",
       "                .geemap-dark {\n",
       "                    --jp-widgets-color: white;\n",
       "                    --jp-widgets-label-color: white;\n",
       "                    --jp-ui-font-color1: white;\n",
       "                    --jp-layout-color2: #454545;\n",
       "                    background-color: #383838;\n",
       "                }\n",
       "\n",
       "                .geemap-dark .jupyter-button {\n",
       "                    --jp-layout-color3: #383838;\n",
       "                }\n",
       "\n",
       "                .geemap-colab {\n",
       "                    background-color: var(--colab-primary-surface-color, white);\n",
       "                }\n",
       "\n",
       "                .geemap-colab .jupyter-button {\n",
       "                    --jp-layout-color3: var(--colab-primary-surface-color, white);\n",
       "                }\n",
       "            </style>\n",
       "            "
      ],
      "text/plain": [
       "<IPython.core.display.HTML object>"
      ]
     },
     "metadata": {},
     "output_type": "display_data"
    },
    {
     "data": {
      "text/html": [
       "<div>\n",
       "<style scoped>\n",
       "    .dataframe tbody tr th:only-of-type {\n",
       "        vertical-align: middle;\n",
       "    }\n",
       "\n",
       "    .dataframe tbody tr th {\n",
       "        vertical-align: top;\n",
       "    }\n",
       "\n",
       "    .dataframe thead th {\n",
       "        text-align: right;\n",
       "    }\n",
       "</style>\n",
       "<table border=\"1\" class=\"dataframe\">\n",
       "  <thead>\n",
       "    <tr style=\"text-align: right;\">\n",
       "      <th></th>\n",
       "      <th>TYPEPIPE</th>\n",
       "      <th>Operator</th>\n",
       "      <th>Status</th>\n",
       "      <th>Shape_Leng</th>\n",
       "      <th>Shape_Le_1</th>\n",
       "      <th>pipe_id</th>\n",
       "      <th>unique_id</th>\n",
       "      <th>geometry</th>\n",
       "    </tr>\n",
       "  </thead>\n",
       "  <tbody>\n",
       "    <tr>\n",
       "      <th>0</th>\n",
       "      <td>Interstate</td>\n",
       "      <td>El Paso Natural Gas Co</td>\n",
       "      <td>Operating</td>\n",
       "      <td>0.025148</td>\n",
       "      <td>0.016497</td>\n",
       "      <td>1147</td>\n",
       "      <td>1</td>\n",
       "      <td>LINESTRING (380969.243 1087985.820, 381051.729...</td>\n",
       "    </tr>\n",
       "    <tr>\n",
       "      <th>1</th>\n",
       "      <td>Interstate</td>\n",
       "      <td>El Paso Natural Gas Co</td>\n",
       "      <td>Operating</td>\n",
       "      <td>0.196085</td>\n",
       "      <td>0.196085</td>\n",
       "      <td>1154</td>\n",
       "      <td>2</td>\n",
       "      <td>LINESTRING (381093.841 1090067.229, 381077.931...</td>\n",
       "    </tr>\n",
       "    <tr>\n",
       "      <th>2</th>\n",
       "      <td>Interstate</td>\n",
       "      <td>El Paso Natural Gas Co</td>\n",
       "      <td>Operating</td>\n",
       "      <td>0.004100</td>\n",
       "      <td>0.004100</td>\n",
       "      <td>1155</td>\n",
       "      <td>3</td>\n",
       "      <td>LINESTRING (381051.729 1089410.064, 381077.931...</td>\n",
       "    </tr>\n",
       "    <tr>\n",
       "      <th>3</th>\n",
       "      <td>Interstate</td>\n",
       "      <td>El Paso Natural Gas Co</td>\n",
       "      <td>Operating</td>\n",
       "      <td>0.048014</td>\n",
       "      <td>0.028729</td>\n",
       "      <td>1162</td>\n",
       "      <td>4</td>\n",
       "      <td>LINESTRING (380833.020 1110697.460, 380829.852...</td>\n",
       "    </tr>\n",
       "    <tr>\n",
       "      <th>4</th>\n",
       "      <td>Interstate</td>\n",
       "      <td>El Paso Natural Gas Co</td>\n",
       "      <td>Operating</td>\n",
       "      <td>0.016974</td>\n",
       "      <td>0.016974</td>\n",
       "      <td>1163</td>\n",
       "      <td>5</td>\n",
       "      <td>LINESTRING (380017.887 1110166.881, 379208.473...</td>\n",
       "    </tr>\n",
       "  </tbody>\n",
       "</table>\n",
       "</div>"
      ],
      "text/plain": [
       "     TYPEPIPE                Operator     Status  Shape_Leng  Shape_Le_1  \\\n",
       "0  Interstate  El Paso Natural Gas Co  Operating    0.025148    0.016497   \n",
       "1  Interstate  El Paso Natural Gas Co  Operating    0.196085    0.196085   \n",
       "2  Interstate  El Paso Natural Gas Co  Operating    0.004100    0.004100   \n",
       "3  Interstate  El Paso Natural Gas Co  Operating    0.048014    0.028729   \n",
       "4  Interstate  El Paso Natural Gas Co  Operating    0.016974    0.016974   \n",
       "\n",
       "   pipe_id  unique_id                                           geometry  \n",
       "0     1147          1  LINESTRING (380969.243 1087985.820, 381051.729...  \n",
       "1     1154          2  LINESTRING (381093.841 1090067.229, 381077.931...  \n",
       "2     1155          3  LINESTRING (381051.729 1089410.064, 381077.931...  \n",
       "3     1162          4  LINESTRING (380833.020 1110697.460, 380829.852...  \n",
       "4     1163          5  LINESTRING (380017.887 1110166.881, 379208.473...  "
      ]
     },
     "execution_count": 6,
     "metadata": {},
     "output_type": "execute_result"
    }
   ],
   "source": [
    "gpd.read_file(raw_filename).head()"
   ]
  },
  {
   "cell_type": "code",
   "execution_count": 20,
   "metadata": {},
   "outputs": [
    {
     "data": {
      "text/html": [
       "\n",
       "            <style>\n",
       "                .geemap-dark {\n",
       "                    --jp-widgets-color: white;\n",
       "                    --jp-widgets-label-color: white;\n",
       "                    --jp-ui-font-color1: white;\n",
       "                    --jp-layout-color2: #454545;\n",
       "                    background-color: #383838;\n",
       "                }\n",
       "\n",
       "                .geemap-dark .jupyter-button {\n",
       "                    --jp-layout-color3: #383838;\n",
       "                }\n",
       "\n",
       "                .geemap-colab {\n",
       "                    background-color: var(--colab-primary-surface-color, white);\n",
       "                }\n",
       "\n",
       "                .geemap-colab .jupyter-button {\n",
       "                    --jp-layout-color3: var(--colab-primary-surface-color, white);\n",
       "                }\n",
       "            </style>\n",
       "            "
      ],
      "text/plain": [
       "<IPython.core.display.HTML object>"
      ]
     },
     "metadata": {},
     "output_type": "display_data"
    }
   ],
   "source": [
    "# py 3.12\n",
    "# AbsModel = load(\"saved_models/absoluteBinaryModel.joblib\")\n",
    "AbsModel = load_model(\"saved_models/absoluteBinaryModel.keras\")\n",
    "\n"
   ]
  },
  {
   "cell_type": "code",
   "execution_count": 22,
   "metadata": {},
   "outputs": [
    {
     "data": {
      "text/html": [
       "\n",
       "            <style>\n",
       "                .geemap-dark {\n",
       "                    --jp-widgets-color: white;\n",
       "                    --jp-widgets-label-color: white;\n",
       "                    --jp-ui-font-color1: white;\n",
       "                    --jp-layout-color2: #454545;\n",
       "                    background-color: #383838;\n",
       "                }\n",
       "\n",
       "                .geemap-dark .jupyter-button {\n",
       "                    --jp-layout-color3: #383838;\n",
       "                }\n",
       "\n",
       "                .geemap-colab {\n",
       "                    background-color: var(--colab-primary-surface-color, white);\n",
       "                }\n",
       "\n",
       "                .geemap-colab .jupyter-button {\n",
       "                    --jp-layout-color3: var(--colab-primary-surface-color, white);\n",
       "                }\n",
       "            </style>\n",
       "            "
      ],
      "text/plain": [
       "<IPython.core.display.HTML object>"
      ]
     },
     "metadata": {},
     "output_type": "display_data"
    },
    {
     "data": {
      "text/plain": [
       "[(256, 256, 3), (256, 256, 3), (256, 256, 3), (256, 256, 3)]"
      ]
     },
     "execution_count": 22,
     "metadata": {},
     "output_type": "execute_result"
    }
   ],
   "source": [
    "[pic.shape for pic in predList]"
   ]
  },
  {
   "cell_type": "code",
   "execution_count": 23,
   "metadata": {},
   "outputs": [
    {
     "data": {
      "text/html": [
       "\n",
       "            <style>\n",
       "                .geemap-dark {\n",
       "                    --jp-widgets-color: white;\n",
       "                    --jp-widgets-label-color: white;\n",
       "                    --jp-ui-font-color1: white;\n",
       "                    --jp-layout-color2: #454545;\n",
       "                    background-color: #383838;\n",
       "                }\n",
       "\n",
       "                .geemap-dark .jupyter-button {\n",
       "                    --jp-layout-color3: #383838;\n",
       "                }\n",
       "\n",
       "                .geemap-colab {\n",
       "                    background-color: var(--colab-primary-surface-color, white);\n",
       "                }\n",
       "\n",
       "                .geemap-colab .jupyter-button {\n",
       "                    --jp-layout-color3: var(--colab-primary-surface-color, white);\n",
       "                }\n",
       "            </style>\n",
       "            "
      ],
      "text/plain": [
       "<IPython.core.display.HTML object>"
      ]
     },
     "metadata": {},
     "output_type": "display_data"
    },
    {
     "ename": "ValueError",
     "evalue": "Exception encountered when calling Sequential.call().\n\n\u001b[1mInvalid input shape for input Tensor(\"sequential_1/Cast:0\", shape=(32, 256, 3), dtype=float32). Expected shape (None, 256, 256, 3), but input has incompatible shape (32, 256, 3)\u001b[0m\n\nArguments received by Sequential.call():\n  • inputs=('tf.Tensor(shape=(32, 256, 3), dtype=uint8)', 'tf.Tensor(shape=(32, 256, 3), dtype=uint8)', 'tf.Tensor(shape=(32, 256, 3), dtype=uint8)', 'tf.Tensor(shape=(32, 256, 3), dtype=uint8)')\n  • training=False\n  • mask=('None', 'None', 'None', 'None')",
     "output_type": "error",
     "traceback": [
      "\u001b[1;31m---------------------------------------------------------------------------\u001b[0m",
      "\u001b[1;31mValueError\u001b[0m                                Traceback (most recent call last)",
      "Cell \u001b[1;32mIn[23], line 1\u001b[0m\n\u001b[1;32m----> 1\u001b[0m \u001b[43mAbsModel\u001b[49m\u001b[38;5;241;43m.\u001b[39;49m\u001b[43mpredict\u001b[49m\u001b[43m(\u001b[49m\u001b[43mpredList\u001b[49m\u001b[43m)\u001b[49m\n",
      "File \u001b[1;32me:\\Grad_Class_Backup\\remote_sensing\\final_project\\pipeline-elevation-project\\.venv\\Lib\\site-packages\\keras\\src\\utils\\traceback_utils.py:122\u001b[0m, in \u001b[0;36mfilter_traceback.<locals>.error_handler\u001b[1;34m(*args, **kwargs)\u001b[0m\n\u001b[0;32m    119\u001b[0m     filtered_tb \u001b[38;5;241m=\u001b[39m _process_traceback_frames(e\u001b[38;5;241m.\u001b[39m__traceback__)\n\u001b[0;32m    120\u001b[0m     \u001b[38;5;66;03m# To get the full stack trace, call:\u001b[39;00m\n\u001b[0;32m    121\u001b[0m     \u001b[38;5;66;03m# `keras.config.disable_traceback_filtering()`\u001b[39;00m\n\u001b[1;32m--> 122\u001b[0m     \u001b[38;5;28;01mraise\u001b[39;00m e\u001b[38;5;241m.\u001b[39mwith_traceback(filtered_tb) \u001b[38;5;28;01mfrom\u001b[39;00m \u001b[38;5;28;01mNone\u001b[39;00m\n\u001b[0;32m    123\u001b[0m \u001b[38;5;28;01mfinally\u001b[39;00m:\n\u001b[0;32m    124\u001b[0m     \u001b[38;5;28;01mdel\u001b[39;00m filtered_tb\n",
      "File \u001b[1;32me:\\Grad_Class_Backup\\remote_sensing\\final_project\\pipeline-elevation-project\\.venv\\Lib\\site-packages\\keras\\src\\models\\functional.py:288\u001b[0m, in \u001b[0;36mFunctional._adjust_input_rank\u001b[1;34m(self, flat_inputs)\u001b[0m\n\u001b[0;32m    286\u001b[0m             adjusted\u001b[38;5;241m.\u001b[39mappend(ops\u001b[38;5;241m.\u001b[39mexpand_dims(x, axis\u001b[38;5;241m=\u001b[39m\u001b[38;5;241m-\u001b[39m\u001b[38;5;241m1\u001b[39m))\n\u001b[0;32m    287\u001b[0m             \u001b[38;5;28;01mcontinue\u001b[39;00m\n\u001b[1;32m--> 288\u001b[0m     \u001b[38;5;28;01mraise\u001b[39;00m \u001b[38;5;167;01mValueError\u001b[39;00m(\n\u001b[0;32m    289\u001b[0m         \u001b[38;5;124mf\u001b[39m\u001b[38;5;124m\"\u001b[39m\u001b[38;5;124mInvalid input shape for input \u001b[39m\u001b[38;5;132;01m{\u001b[39;00mx\u001b[38;5;132;01m}\u001b[39;00m\u001b[38;5;124m. Expected shape \u001b[39m\u001b[38;5;124m\"\u001b[39m\n\u001b[0;32m    290\u001b[0m         \u001b[38;5;124mf\u001b[39m\u001b[38;5;124m\"\u001b[39m\u001b[38;5;132;01m{\u001b[39;00mref_shape\u001b[38;5;132;01m}\u001b[39;00m\u001b[38;5;124m, but input has incompatible shape \u001b[39m\u001b[38;5;132;01m{\u001b[39;00mx\u001b[38;5;241m.\u001b[39mshape\u001b[38;5;132;01m}\u001b[39;00m\u001b[38;5;124m\"\u001b[39m\n\u001b[0;32m    291\u001b[0m     )\n\u001b[0;32m    292\u001b[0m \u001b[38;5;66;03m# Add back metadata.\u001b[39;00m\n\u001b[0;32m    293\u001b[0m \u001b[38;5;28;01mfor\u001b[39;00m i \u001b[38;5;129;01min\u001b[39;00m \u001b[38;5;28mrange\u001b[39m(\u001b[38;5;28mlen\u001b[39m(flat_inputs)):\n",
      "\u001b[1;31mValueError\u001b[0m: Exception encountered when calling Sequential.call().\n\n\u001b[1mInvalid input shape for input Tensor(\"sequential_1/Cast:0\", shape=(32, 256, 3), dtype=float32). Expected shape (None, 256, 256, 3), but input has incompatible shape (32, 256, 3)\u001b[0m\n\nArguments received by Sequential.call():\n  • inputs=('tf.Tensor(shape=(32, 256, 3), dtype=uint8)', 'tf.Tensor(shape=(32, 256, 3), dtype=uint8)', 'tf.Tensor(shape=(32, 256, 3), dtype=uint8)', 'tf.Tensor(shape=(32, 256, 3), dtype=uint8)')\n  • training=False\n  • mask=('None', 'None', 'None', 'None')"
     ]
    }
   ],
   "source": [
    "AbsModel.predict(predList)"
   ]
  },
  {
   "cell_type": "code",
   "execution_count": 15,
   "metadata": {},
   "outputs": [
    {
     "data": {
      "text/html": [
       "\n",
       "            <style>\n",
       "                .geemap-dark {\n",
       "                    --jp-widgets-color: white;\n",
       "                    --jp-widgets-label-color: white;\n",
       "                    --jp-ui-font-color1: white;\n",
       "                    --jp-layout-color2: #454545;\n",
       "                    background-color: #383838;\n",
       "                }\n",
       "\n",
       "                .geemap-dark .jupyter-button {\n",
       "                    --jp-layout-color3: #383838;\n",
       "                }\n",
       "\n",
       "                .geemap-colab {\n",
       "                    background-color: var(--colab-primary-surface-color, white);\n",
       "                }\n",
       "\n",
       "                .geemap-colab .jupyter-button {\n",
       "                    --jp-layout-color3: var(--colab-primary-surface-color, white);\n",
       "                }\n",
       "            </style>\n",
       "            "
      ],
      "text/plain": [
       "<IPython.core.display.HTML object>"
      ]
     },
     "metadata": {},
     "output_type": "display_data"
    },
    {
     "name": "stdout",
     "output_type": "stream",
     "text": [
      "Time taken for download:\n",
      "\t2.078782081604004 seconds.\n",
      "Time taken for download:\n",
      "\t1.6793127059936523 seconds.\n",
      "Time taken for download:\n",
      "\t4.079823970794678 seconds.\n",
      "Time taken for download:\n",
      "\t4.235048532485962 seconds.\n"
     ]
    }
   ],
   "source": [
    "predList = [getImage(1005,2401),getImage(1005,2401),getImage(1005,2212),getImage(1005,2296)]\n"
   ]
  },
  {
   "cell_type": "code",
   "execution_count": null,
   "metadata": {},
   "outputs": [],
   "source": [
    "plt.figure(figsize=(10, 5))\n",
    "plt.subplot(1, 2, 1)\n",
    "plt.imshow(predList[i], cmap='viridis')\n",
    "plt.title('Average shoe in training data')\n",
    "\n",
    "plt.subplot(1, 2, 2)\n",
    "plt.imshow(y_test[i], cmap='viridis')\n",
    "plt.title('Average shoe in testing data')\n",
    "plt.show()"
   ]
  },
  {
   "cell_type": "code",
   "execution_count": null,
   "metadata": {},
   "outputs": [],
   "source": [
    "\n",
    "distances_train = []\n",
    "for i in range(len(x_train)):\n",
    "    distance = np.linalg.norm(x_train[i].flatten() - x_val.flatten())\n",
    "    distances_train.append(distance)\n",
    "\n",
    "most_dissimilar_train_index = np.argmax(y_train)\n",
    "most_dissimilar_train_image = x_train[most_dissimilar_train_index]\n",
    "\n",
    "distances_train = []\n",
    "for i in range(len(x_train)):\n",
    "    distance = np.linalg.norm(x_train[i].flatten() - x_val.flatten())\n",
    "    distances_train.append(distance)\n",
    "\n",
    "most_similar_train_index = np.argmin(distances_train)\n",
    "most_similar_train_image = x_train[most_similar_train_index]\n",
    "\n",
    "distances_test = []\n",
    "for i in range(len(x_test)):\n",
    "    distance = np.linalg.norm(x_test[i].flatten() - avg_shoe_test.flatten())\n",
    "    distances_test.append(distance)\n",
    "\n",
    "most_dissimilar_test_index = np.argmax(distances_test)\n",
    "most_dissimilar_test_image = x_test[most_dissimilar_test_index]\n",
    "\n",
    "distances_test = []\n",
    "for i in range(len(x_test)):\n",
    "    distance = np.linalg.norm(x_test[i].flatten() - avg_shoe_test.flatten())\n",
    "    distances_test.append(distance)\n",
    "\n",
    "most_similar_test_index = np.argmin(distances_test)\n",
    "most_similar_test_image = x_test[most_similar_test_index]\n",
    "\n",
    "plt.figure(figsize=(10, 5))\n",
    "\n",
    "plt.subplot(2, 2, 1)\n",
    "plt.imshow(most_dissimilar_train_image, cmap='gray')\n",
    "plt.title('Most dissimilar in training data')\n",
    "\n",
    "plt.subplot(2, 2, 2)\n",
    "plt.imshow(most_similar_train_image, cmap='gray')\n",
    "plt.title('Most similar  in training data')\n",
    "\n",
    "plt.subplot(2, 2, 3)\n",
    "plt.imshow(most_dissimilar_test_image, cmap='gray')\n",
    "plt.title('Most dissimilar in testing data')\n",
    "\n",
    "plt.subplot(2, 2, 4)\n",
    "plt.imshow(most_similar_test_image, cmap='gray')\n",
    "plt.title('Most similar  in testing data')\n",
    "\n",
    "plt.show()\n",
    "\n",
    "# Q3.1: What is the index of most similar shoe image in the training set:\n",
    "print(\"Most similar shoe index in training set:\", most_similar_train_index)\n",
    "\n",
    "# Q3.2: What is the index of most dissimilar shoe image in the training set:\n",
    "print(\"Most dissimilar shoe index in training set:\", most_dissimilar_train_index)\n",
    "\n",
    "# Q3.1: What is the index of most dissimilar shoe image in the testing set:\n",
    "print(\"Most dissimilar shoe index in testing set:\", most_dissimilar_test_index)\n",
    "\n"
   ]
  }
 ],
 "metadata": {
  "kernelspec": {
   "display_name": "Python 3",
   "language": "python",
   "name": "python3"
  },
  "language_info": {
   "codemirror_mode": {
    "name": "ipython",
    "version": 3
   },
   "file_extension": ".py",
   "mimetype": "text/x-python",
   "name": "python",
   "nbconvert_exporter": "python",
   "pygments_lexer": "ipython3",
   "version": "3.12.1"
  }
 },
 "nbformat": 4,
 "nbformat_minor": 2
}
